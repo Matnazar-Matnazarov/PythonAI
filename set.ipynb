{
 "cells": [
  {
   "metadata": {},
   "cell_type": "markdown",
   "source": "1. Set Union of two set unique elements create set",
   "id": "cce7de2e92680c5e"
  },
  {
   "metadata": {
    "ExecuteTime": {
     "end_time": "2025-01-27T17:15:30.857884Z",
     "start_time": "2025-01-27T17:15:30.847637Z"
    }
   },
   "cell_type": "code",
   "source": [
    "a = {1, 2, 3, 4, 5,}\n",
    "b = {3, 4, 5, 7, 8, 6}\n",
    "print(a.union(b))\n",
    "print(a | b)"
   ],
   "id": "94d4c98c55fa73e",
   "outputs": [
    {
     "name": "stdout",
     "output_type": "stream",
     "text": [
      "{1, 2, 3, 4, 5, 6, 7, 8}\n",
      "{1, 2, 3, 4, 5, 6, 7, 8}\n"
     ]
    }
   ],
   "execution_count": 6
  },
  {
   "metadata": {},
   "cell_type": "markdown",
   "source": "2. Set Intersection of two set common elements create set",
   "id": "b29e7cdac4abad5b"
  },
  {
   "metadata": {
    "ExecuteTime": {
     "end_time": "2025-01-27T17:48:37.717591Z",
     "start_time": "2025-01-27T17:48:37.705027Z"
    }
   },
   "cell_type": "code",
   "source": [
    "a = {1, 2, 3, 4, 5,}\n",
    "b = {3, 4, 5, 7, 8, 6}\n",
    "print(a.intersection(b))\n",
    "print(a & b)"
   ],
   "id": "6541b58822bbb530",
   "outputs": [
    {
     "name": "stdout",
     "output_type": "stream",
     "text": [
      "{3, 4, 5}\n",
      "{3, 4, 5}\n"
     ]
    }
   ],
   "execution_count": 8
  },
  {
   "metadata": {},
   "cell_type": "markdown",
   "source": "3. Set Difference of two set elements create set",
   "id": "bf4556acfabddfba"
  },
  {
   "metadata": {
    "ExecuteTime": {
     "end_time": "2025-01-27T17:49:10.448013Z",
     "start_time": "2025-01-27T17:49:10.434892Z"
    }
   },
   "cell_type": "code",
   "source": [
    "a = {1, 2, 3, 4, 5,}\n",
    "b = {3, 4, 5, 7, 8, 6}\n",
    "print(a.difference(b))\n",
    "print(a - b)"
   ],
   "id": "501f0cc05c066796",
   "outputs": [
    {
     "name": "stdout",
     "output_type": "stream",
     "text": [
      "{1, 2}\n",
      "{1, 2}\n"
     ]
    }
   ],
   "execution_count": 9
  },
  {
   "metadata": {},
   "cell_type": "markdown",
   "source": "4. Set Symmetric difference of two set elements create set",
   "id": "b71edc5222e1cb66"
  },
  {
   "metadata": {
    "ExecuteTime": {
     "end_time": "2025-01-27T17:49:38.777242Z",
     "start_time": "2025-01-27T17:49:38.764359Z"
    }
   },
   "cell_type": "code",
   "source": [
    "a = {1, 2, 3, 4, 5,}\n",
    "b = {3, 4, 5, 7, 8, 6}\n",
    "print(a.symmetric_difference(b))\n",
    "print(a ^ b)"
   ],
   "id": "c906aaa1fe36a904",
   "outputs": [
    {
     "name": "stdout",
     "output_type": "stream",
     "text": [
      "{1, 2, 6, 7, 8}\n",
      "{1, 2, 6, 7, 8}\n"
     ]
    }
   ],
   "execution_count": 10
  },
  {
   "metadata": {},
   "cell_type": "markdown",
   "source": "5. Set issubset check if all elements of a set are present in another set",
   "id": "44dcd796c713d551"
  },
  {
   "metadata": {
    "ExecuteTime": {
     "end_time": "2025-01-27T17:52:25.432306Z",
     "start_time": "2025-01-27T17:52:25.420433Z"
    }
   },
   "cell_type": "code",
   "source": [
    "a = {1, 2, 3, 4, 5,}\n",
    "b = {3, 4, 5}\n",
    "print(b.issubset(a))\n",
    "print(a <= b)"
   ],
   "id": "43064cd12bbb07c8",
   "outputs": [
    {
     "name": "stdout",
     "output_type": "stream",
     "text": [
      "True\n",
      "False\n"
     ]
    }
   ],
   "execution_count": 13
  },
  {
   "metadata": {},
   "cell_type": "markdown",
   "source": "6. Set issuperset check if all elements of a set are present in another set",
   "id": "9acdfc04a5822ade"
  },
  {
   "metadata": {
    "ExecuteTime": {
     "end_time": "2025-01-27T18:07:39.055533Z",
     "start_time": "2025-01-27T18:07:39.040622Z"
    }
   },
   "cell_type": "code",
   "source": [
    "a = {1, 2, 3, 4, 5,}\n",
    "b = {3, 4, 5}\n",
    "print(a.issuperset(b))\n",
    "print(a >= b)"
   ],
   "id": "e8e475b19680025e",
   "outputs": [
    {
     "name": "stdout",
     "output_type": "stream",
     "text": [
      "True\n",
      "True\n"
     ]
    }
   ],
   "execution_count": 14
  },
  {
   "metadata": {},
   "cell_type": "markdown",
   "source": "7. Set add element to a set",
   "id": "32ccac5d05e9113f"
  },
  {
   "metadata": {
    "ExecuteTime": {
     "end_time": "2025-01-27T18:10:18.820951Z",
     "start_time": "2025-01-27T18:10:18.811299Z"
    }
   },
   "cell_type": "code",
   "source": [
    "a = {1, 2, 3, 4, 5,}\n",
    "a.add(6)\n",
    "print(a)"
   ],
   "id": "65858b998c17b1a8",
   "outputs": [
    {
     "name": "stdout",
     "output_type": "stream",
     "text": [
      "{1, 2, 3, 4, 5, 6}\n"
     ]
    }
   ],
   "execution_count": 19
  },
  {
   "metadata": {},
   "cell_type": "markdown",
   "source": "8. Set remove element from a set",
   "id": "922dcd856b518a75"
  },
  {
   "metadata": {
    "ExecuteTime": {
     "end_time": "2025-01-27T18:15:01.309048Z",
     "start_time": "2025-01-27T18:15:01.298220Z"
    }
   },
   "cell_type": "code",
   "source": [
    "a = {1, 2, 3, 4, 5,}\n",
    "a.remove(4)\n",
    "print(a)"
   ],
   "id": "44140c0705596dc",
   "outputs": [
    {
     "name": "stdout",
     "output_type": "stream",
     "text": [
      "{1, 2, 3, 5}\n"
     ]
    }
   ],
   "execution_count": 28
  },
  {
   "metadata": {},
   "cell_type": "markdown",
   "source": "9. Set discard element from a set",
   "id": "4b60663d99845c1a"
  },
  {
   "metadata": {
    "ExecuteTime": {
     "end_time": "2025-01-27T18:16:55.091082Z",
     "start_time": "2025-01-27T18:16:55.079579Z"
    }
   },
   "cell_type": "code",
   "source": [
    "a = {1, 2, 3, 4, 5,}\n",
    "a.discard(9)\n",
    "print(a)"
   ],
   "id": "c1b3836f0cb92046",
   "outputs": [
    {
     "name": "stdout",
     "output_type": "stream",
     "text": [
      "{1, 2, 3, 4, 5}\n"
     ]
    }
   ],
   "execution_count": 30
  },
  {
   "metadata": {},
   "cell_type": "markdown",
   "source": "10. Set pop element from a set",
   "id": "c6c0e8d4a09f74a9"
  },
  {
   "metadata": {
    "ExecuteTime": {
     "end_time": "2025-01-27T18:25:46.854275Z",
     "start_time": "2025-01-27T18:25:46.841957Z"
    }
   },
   "cell_type": "code",
   "source": [
    "a = {1, 2, 3, 4, 5,}\n",
    "print(a.pop())\n",
    "print(a)"
   ],
   "id": "768c866f688c863e",
   "outputs": [
    {
     "name": "stdout",
     "output_type": "stream",
     "text": [
      "1\n",
      "{2, 3, 4, 5}\n"
     ]
    }
   ],
   "execution_count": 31
  },
  {
   "metadata": {},
   "cell_type": "markdown",
   "source": "11. Set clear all elements from a set",
   "id": "a6f1eb0c4707eb11"
  },
  {
   "metadata": {
    "ExecuteTime": {
     "end_time": "2025-01-27T18:26:07.426336Z",
     "start_time": "2025-01-27T18:26:07.414188Z"
    }
   },
   "cell_type": "code",
   "source": [
    "a = {1, 2, 3, 4, 5,}\n",
    "a.clear()\n",
    "print(a)"
   ],
   "id": "e7d3af021459c441",
   "outputs": [
    {
     "name": "stdout",
     "output_type": "stream",
     "text": [
      "set()\n"
     ]
    }
   ],
   "execution_count": 32
  },
  {
   "metadata": {},
   "cell_type": "markdown",
   "source": "12. Set copy elements from a set",
   "id": "e01527603826fab7"
  },
  {
   "metadata": {
    "ExecuteTime": {
     "end_time": "2025-01-27T18:26:29.667811Z",
     "start_time": "2025-01-27T18:26:29.655726Z"
    }
   },
   "cell_type": "code",
   "source": [
    "a = {1, 2, 3, 4, 5,}\n",
    "b = a.copy()\n",
    "print(b)\n",
    "b.add(6)\n",
    "print(b)\n",
    "print(a)"
   ],
   "id": "d78015a32e368a5d",
   "outputs": [
    {
     "name": "stdout",
     "output_type": "stream",
     "text": [
      "{1, 2, 3, 4, 5}\n",
      "{1, 2, 3, 4, 5, 6}\n",
      "{1, 2, 3, 4, 5}\n"
     ]
    }
   ],
   "execution_count": 33
  },
  {
   "metadata": {},
   "cell_type": "markdown",
   "source": "13. Set difference_update remove all elements of another set from this set",
   "id": "40ca8fb5b14e021a"
  },
  {
   "metadata": {
    "ExecuteTime": {
     "end_time": "2025-01-27T18:26:56.596751Z",
     "start_time": "2025-01-27T18:26:56.584320Z"
    }
   },
   "cell_type": "code",
   "source": [
    "a = {1, 2, 3, 4, 5,}\n",
    "b = {3, 4, 5, 7, 8, 6}\n",
    "a.difference_update(b)\n",
    "print(a)"
   ],
   "id": "b164c21d6b9f7a0d",
   "outputs": [
    {
     "name": "stdout",
     "output_type": "stream",
     "text": [
      "{1, 2}\n"
     ]
    }
   ],
   "execution_count": 34
  },
  {
   "metadata": {},
   "cell_type": "markdown",
   "source": "14. Set intersection_update keep only common elements of two sets",
   "id": "526f492144459d59"
  },
  {
   "metadata": {
    "ExecuteTime": {
     "end_time": "2025-01-27T18:27:25.367952Z",
     "start_time": "2025-01-27T18:27:25.355887Z"
    }
   },
   "cell_type": "code",
   "source": [
    "a = {1, 2, 3, 4, 5,}\n",
    "b = {3, 4, 5, 7, 8, 6}\n",
    "a.intersection_update(b)\n",
    "print(a)"
   ],
   "id": "d550267ef0dcd3b",
   "outputs": [
    {
     "name": "stdout",
     "output_type": "stream",
     "text": [
      "{3, 4, 5}\n"
     ]
    }
   ],
   "execution_count": 35
  },
  {
   "metadata": {},
   "cell_type": "markdown",
   "source": "15. Set symmetric_difference_update keep only unique elements of two sets",
   "id": "ce783742c4756e91"
  },
  {
   "metadata": {
    "ExecuteTime": {
     "end_time": "2025-01-27T18:27:54.824522Z",
     "start_time": "2025-01-27T18:27:54.810216Z"
    }
   },
   "cell_type": "code",
   "source": [
    "a = {1, 2, 3, 4, 5,}\n",
    "b = {3, 4, 5, 7, 8, 6}\n",
    "a.symmetric_difference_update(b)\n",
    "print(a)"
   ],
   "id": "84214ddffbab92db",
   "outputs": [
    {
     "name": "stdout",
     "output_type": "stream",
     "text": [
      "{1, 2, 6, 7, 8}\n"
     ]
    }
   ],
   "execution_count": 36
  },
  {
   "metadata": {},
   "cell_type": "markdown",
   "source": "16. Set union_update add elements of another set to this set",
   "id": "4c28813efba27ab1"
  },
  {
   "metadata": {
    "ExecuteTime": {
     "end_time": "2025-01-27T18:28:25.901415Z",
     "start_time": "2025-01-27T18:28:25.890434Z"
    }
   },
   "cell_type": "code",
   "source": [
    "a = {1, 2, 3, 4, 5,}\n",
    "b = {3, 4, 5, 7, 8, 6}\n",
    "a.update(b)\n",
    "print(a)"
   ],
   "id": "1945f7794352bcb8",
   "outputs": [
    {
     "name": "stdout",
     "output_type": "stream",
     "text": [
      "{1, 2, 3, 4, 5, 6, 7, 8}\n"
     ]
    }
   ],
   "execution_count": 37
  },
  {
   "metadata": {},
   "cell_type": "markdown",
   "source": "17. Set isdisjoint check if two sets have no common elements",
   "id": "d1a6ce4ff2363c71"
  },
  {
   "metadata": {
    "ExecuteTime": {
     "end_time": "2025-01-27T18:28:53.485238Z",
     "start_time": "2025-01-27T18:28:53.474817Z"
    }
   },
   "cell_type": "code",
   "source": [
    "a = {1, 2, 3, 4, 5,}\n",
    "b = {6, 7, 8}\n",
    "print(a.isdisjoint(b))"
   ],
   "id": "46aeed64773c0b69",
   "outputs": [
    {
     "name": "stdout",
     "output_type": "stream",
     "text": [
      "True\n"
     ]
    }
   ],
   "execution_count": 38
  },
  {
   "metadata": {},
   "cell_type": "markdown",
   "source": "18. Set in check if element is present in a set",
   "id": "5ac96bdf0931d3c0"
  },
  {
   "metadata": {
    "ExecuteTime": {
     "end_time": "2025-01-27T18:36:32.375458Z",
     "start_time": "2025-01-27T18:36:32.364228Z"
    }
   },
   "cell_type": "code",
   "source": [
    "a = {1, 2, 3, 4, 5,}\n",
    "print(1 in a)\n",
    "print(6 not in a)"
   ],
   "id": "b31253af33cf1522",
   "outputs": [
    {
     "name": "stdout",
     "output_type": "stream",
     "text": [
      "True\n",
      "True\n"
     ]
    }
   ],
   "execution_count": 42
  }
 ],
 "metadata": {
  "kernelspec": {
   "display_name": "Python 3",
   "language": "python",
   "name": "python3"
  },
  "language_info": {
   "codemirror_mode": {
    "name": "ipython",
    "version": 2
   },
   "file_extension": ".py",
   "mimetype": "text/x-python",
   "name": "python",
   "nbconvert_exporter": "python",
   "pygments_lexer": "ipython2",
   "version": "2.7.6"
  }
 },
 "nbformat": 4,
 "nbformat_minor": 5
}
