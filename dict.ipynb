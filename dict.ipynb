{
 "cells": [
  {
   "metadata": {},
   "cell_type": "markdown",
   "source": "1. Dict print",
   "id": "6a1334a274be1650"
  },
  {
   "metadata": {
    "ExecuteTime": {
     "end_time": "2025-01-27T08:51:42.408998Z",
     "start_time": "2025-01-27T08:51:42.397813Z"
    }
   },
   "cell_type": "code",
   "source": [
    "d = {1: 'one', 2: 'two', 3: 'three'}\n",
    "print(d)"
   ],
   "id": "585710534524137d",
   "outputs": [
    {
     "name": "stdout",
     "output_type": "stream",
     "text": [
      "{1: 'one', 2: 'two', 3: 'three'}\n"
     ]
    }
   ],
   "execution_count": 32
  },
  {
   "metadata": {},
   "cell_type": "markdown",
   "source": "2.Dict get",
   "id": "224f040399915175"
  },
  {
   "metadata": {
    "ExecuteTime": {
     "end_time": "2025-01-27T08:51:44.221662Z",
     "start_time": "2025-01-27T08:51:44.209769Z"
    }
   },
   "cell_type": "code",
   "source": [
    "d = {1: 'one', 2: 'two', 3: 'three'}\n",
    "print(d.get(1,None))"
   ],
   "id": "5165cf899290cc0d",
   "outputs": [
    {
     "name": "stdout",
     "output_type": "stream",
     "text": [
      "one\n"
     ]
    }
   ],
   "execution_count": 33
  },
  {
   "metadata": {},
   "cell_type": "markdown",
   "source": "3. Dict keys",
   "id": "4bfc28ac91392321"
  },
  {
   "metadata": {
    "ExecuteTime": {
     "end_time": "2025-01-27T08:51:47.554847Z",
     "start_time": "2025-01-27T08:51:47.542664Z"
    }
   },
   "cell_type": "code",
   "source": [
    "d = {1: 'one', 2: 'two', 3: 'three'}\n",
    "print(d.keys())"
   ],
   "id": "7d19df90fb9ab1f7",
   "outputs": [
    {
     "name": "stdout",
     "output_type": "stream",
     "text": [
      "dict_keys([1, 2, 3])\n"
     ]
    }
   ],
   "execution_count": 34
  },
  {
   "metadata": {},
   "cell_type": "markdown",
   "source": "4. Dict values",
   "id": "49fb72f82e20d69"
  },
  {
   "metadata": {
    "ExecuteTime": {
     "end_time": "2025-01-27T08:51:50.228794Z",
     "start_time": "2025-01-27T08:51:50.217785Z"
    }
   },
   "cell_type": "code",
   "source": [
    "d = {1: 'one', 2: 'two', 3: 'three'}\n",
    "print(d.values())"
   ],
   "id": "ddc6edfe57f4e5b1",
   "outputs": [
    {
     "name": "stdout",
     "output_type": "stream",
     "text": [
      "dict_values(['one', 'two', 'three'])\n"
     ]
    }
   ],
   "execution_count": 35
  },
  {
   "metadata": {},
   "cell_type": "markdown",
   "source": "5. Dict items",
   "id": "1304b0dc957caa60"
  },
  {
   "metadata": {
    "ExecuteTime": {
     "end_time": "2025-01-27T08:51:53.002357Z",
     "start_time": "2025-01-27T08:51:52.989715Z"
    }
   },
   "cell_type": "code",
   "source": [
    "d = {1: 'one', 2: 'two', 3:'three'}\n",
    "print(d.items())"
   ],
   "id": "6e068b3cfc5ffd33",
   "outputs": [
    {
     "name": "stdout",
     "output_type": "stream",
     "text": [
      "dict_items([(1, 'one'), (2, 'two'), (3, 'three')])\n"
     ]
    }
   ],
   "execution_count": 36
  },
  {
   "metadata": {},
   "cell_type": "markdown",
   "source": "6. Dict merge",
   "id": "2c0eeb72538fbb62"
  },
  {
   "metadata": {
    "ExecuteTime": {
     "end_time": "2025-01-27T08:51:55.367412Z",
     "start_time": "2025-01-27T08:51:55.356294Z"
    }
   },
   "cell_type": "code",
   "source": [
    "d = {1: 'one', 2: 'two', 3:'three'}\n",
    "c = {1: 'first', 4: 'forty', 5:'fifth'}\n",
    "d.update(c)\n",
    "print(d)"
   ],
   "id": "1e27f3a411229233",
   "outputs": [
    {
     "name": "stdout",
     "output_type": "stream",
     "text": [
      "{1: 'first', 2: 'two', 3: 'three', 4: 'forty', 5: 'fifth'}\n"
     ]
    }
   ],
   "execution_count": 37
  },
  {
   "metadata": {},
   "cell_type": "markdown",
   "source": "7. Dict pop",
   "id": "5ed818655309ec32"
  },
  {
   "metadata": {
    "ExecuteTime": {
     "end_time": "2025-01-27T08:51:58.329853Z",
     "start_time": "2025-01-27T08:51:58.317338Z"
    }
   },
   "cell_type": "code",
   "source": [
    "d = {1: 'one', 2: 'two', 3:'three'}\n",
    "print(d.pop(1))\n",
    "print(d)"
   ],
   "id": "3dd5ca28cd072108",
   "outputs": [
    {
     "name": "stdout",
     "output_type": "stream",
     "text": [
      "one\n",
      "{2: 'two', 3: 'three'}\n"
     ]
    }
   ],
   "execution_count": 38
  },
  {
   "metadata": {},
   "cell_type": "markdown",
   "source": "8. Dict popitem",
   "id": "661f49f54a0d189f"
  },
  {
   "metadata": {
    "ExecuteTime": {
     "end_time": "2025-01-27T08:52:01.380744Z",
     "start_time": "2025-01-27T08:52:01.371294Z"
    }
   },
   "cell_type": "code",
   "source": [
    "d = {1: 'one', 2: 'two', 3:'three'}\n",
    "print(d.popitem())\n",
    "print(d)"
   ],
   "id": "f1738a0697fe32d",
   "outputs": [
    {
     "name": "stdout",
     "output_type": "stream",
     "text": [
      "(3, 'three')\n",
      "{1: 'one', 2: 'two'}\n"
     ]
    }
   ],
   "execution_count": 39
  },
  {
   "metadata": {},
   "cell_type": "markdown",
   "source": "9. Dict setdefault",
   "id": "b9dcd61d15740591"
  },
  {
   "metadata": {
    "ExecuteTime": {
     "end_time": "2025-01-27T08:52:06.138819Z",
     "start_time": "2025-01-27T08:52:06.128667Z"
    }
   },
   "cell_type": "code",
   "source": [
    "d = {1: 'one', 2: 'two', 3:'three'}\n",
    "print(d.setdefault(4,'first'))\n",
    "print(d)"
   ],
   "id": "f144fb0227242562",
   "outputs": [
    {
     "name": "stdout",
     "output_type": "stream",
     "text": [
      "first\n",
      "{1: 'one', 2: 'two', 3: 'three', 4: 'first'}\n"
     ]
    }
   ],
   "execution_count": 41
  },
  {
   "metadata": {},
   "cell_type": "markdown",
   "source": "",
   "id": "43ae55ccdd41c56d"
  },
  {
   "metadata": {},
   "cell_type": "markdown",
   "source": "10. Dict clear",
   "id": "72eaa9d56b1e61d7"
  },
  {
   "metadata": {
    "ExecuteTime": {
     "end_time": "2025-01-27T08:52:10.852359Z",
     "start_time": "2025-01-27T08:52:10.842399Z"
    }
   },
   "cell_type": "code",
   "source": [
    "d = {1: 'one', 2: 'two', 3:'three'}\n",
    "d.clear()\n",
    "print(d)"
   ],
   "id": "27a9a85e69e5cf4d",
   "outputs": [
    {
     "name": "stdout",
     "output_type": "stream",
     "text": [
      "{}\n"
     ]
    }
   ],
   "execution_count": 42
  },
  {
   "metadata": {},
   "cell_type": "markdown",
   "source": "11. Dict copy",
   "id": "637b52b2929bc1c"
  },
  {
   "metadata": {
    "ExecuteTime": {
     "end_time": "2025-01-27T08:52:14.499265Z",
     "start_time": "2025-01-27T08:52:14.481165Z"
    }
   },
   "cell_type": "code",
   "source": [
    "d = {1: 'one', 2: 'two', 3:'three'}\n",
    "c = d.copy()\n",
    "print(c)\n",
    "c[1] = 'first'\n",
    "print(c)\n",
    "print(d)\n",
    "a = d\n",
    "a[1] = 'first'\n",
    "print(a)\n",
    "print(d)"
   ],
   "id": "e87bb0d314f4b6db",
   "outputs": [
    {
     "name": "stdout",
     "output_type": "stream",
     "text": [
      "{1: 'one', 2: 'two', 3: 'three'}\n",
      "{1: 'first', 2: 'two', 3: 'three'}\n",
      "{1: 'one', 2: 'two', 3: 'three'}\n",
      "{1: 'first', 2: 'two', 3: 'three'}\n",
      "{1: 'first', 2: 'two', 3: 'three'}\n"
     ]
    }
   ],
   "execution_count": 43
  },
  {
   "metadata": {},
   "cell_type": "markdown",
   "source": "12. Dict fromkeys",
   "id": "d15fde779c1df16"
  },
  {
   "metadata": {
    "ExecuteTime": {
     "end_time": "2025-01-27T08:52:19.290462Z",
     "start_time": "2025-01-27T08:52:19.279092Z"
    }
   },
   "cell_type": "code",
   "source": [
    "d = dict.fromkeys([1,2,3],'first')\n",
    "print(d)\n",
    "# not repeated number\n",
    "a = [4,2,1,4,2,1,3]\n",
    "d = dict.fromkeys(a).keys()\n",
    "print(d)"
   ],
   "id": "3f764ff30274f029",
   "outputs": [
    {
     "name": "stdout",
     "output_type": "stream",
     "text": [
      "{1: 'first', 2: 'first', 3: 'first'}\n",
      "dict_keys([4, 2, 1, 3])\n"
     ]
    }
   ],
   "execution_count": 44
  },
  {
   "metadata": {},
   "cell_type": "markdown",
   "source": "13. Dict Check for Common Keys: Given two dictionaries, check if they have any keys in common",
   "id": "14381e5b134d1bd0"
  },
  {
   "metadata": {
    "ExecuteTime": {
     "end_time": "2025-01-27T08:52:21.658034Z",
     "start_time": "2025-01-27T08:52:21.644998Z"
    }
   },
   "cell_type": "code",
   "source": [
    "d = {1: 'one', 2: 'two', 3:'three'}\n",
    "c = {1: 'first', 4: 'forty', 5:'fifth', 3:'third'}\n",
    "print(d.keys() & c.keys())\n"
   ],
   "id": "d4b522e3e7163820",
   "outputs": [
    {
     "name": "stdout",
     "output_type": "stream",
     "text": [
      "{1, 3}\n"
     ]
    }
   ],
   "execution_count": 45
  },
  {
   "metadata": {},
   "cell_type": "markdown",
   "source": "",
   "id": "1809670ecc9b57f9"
  },
  {
   "metadata": {},
   "cell_type": "markdown",
   "source": "14. Dict Check for Common Values: Given two dictionaries, check if they have any values in common",
   "id": "6f0763785900fd66"
  },
  {
   "metadata": {
    "ExecuteTime": {
     "end_time": "2025-01-27T08:52:25.994201Z",
     "start_time": "2025-01-27T08:52:25.981114Z"
    }
   },
   "cell_type": "code",
   "source": [
    "d = {1: 'one', 2: 'two', 3: 'three'}\n",
    "c = {1: 'first', 4: 'forty', 5: 'fifth', 3: 'third', 6: 'three'}\n",
    "print(set(d.values()) & set(c.values()))"
   ],
   "id": "74c873ccd16faa36",
   "outputs": [
    {
     "name": "stdout",
     "output_type": "stream",
     "text": [
      "{'three'}\n"
     ]
    }
   ],
   "execution_count": 46
  },
  {
   "metadata": {},
   "cell_type": "markdown",
   "source": "15. Dict Remove items from dictionary",
   "id": "569bd1e8697a234c"
  },
  {
   "metadata": {
    "ExecuteTime": {
     "end_time": "2025-01-27T08:52:28.536336Z",
     "start_time": "2025-01-27T08:52:28.525461Z"
    }
   },
   "cell_type": "code",
   "source": [
    "d = {1: 'one', 2: 'two', 3: 'three'}\n",
    "print({k: d[k] for k in d.keys() - {1}})"
   ],
   "id": "d603c224892204d1",
   "outputs": [
    {
     "name": "stdout",
     "output_type": "stream",
     "text": [
      "{2: 'two', 3: 'three'}\n"
     ]
    }
   ],
   "execution_count": 47
  },
  {
   "metadata": {},
   "cell_type": "markdown",
   "source": "16. Dict map",
   "id": "67e8a4d1f660d891"
  },
  {
   "metadata": {
    "ExecuteTime": {
     "end_time": "2025-01-27T08:52:32.421268Z",
     "start_time": "2025-01-27T08:52:32.408520Z"
    }
   },
   "cell_type": "code",
   "source": [
    "d = {1: 'one', 2: 'two', 3: 'three'}\n",
    "print({k: len(d[k]) for k in d})"
   ],
   "id": "f8068a394dab10fd",
   "outputs": [
    {
     "name": "stdout",
     "output_type": "stream",
     "text": [
      "{1: 3, 2: 3, 3: 5}\n"
     ]
    }
   ],
   "execution_count": 49
  },
  {
   "metadata": {},
   "cell_type": "markdown",
   "source": "17. Dict Filter",
   "id": "3d271f5d30957ec1"
  },
  {
   "metadata": {
    "ExecuteTime": {
     "end_time": "2025-01-27T08:52:35.373622Z",
     "start_time": "2025-01-27T08:52:35.362611Z"
    }
   },
   "cell_type": "code",
   "source": [
    "d = {1: 'one', 2: 'two', 3: 'three'}\n",
    "print({k: d[k] for k in d if len(d[k]) > 3})"
   ],
   "id": "e5b614e380d9cf13",
   "outputs": [
    {
     "name": "stdout",
     "output_type": "stream",
     "text": [
      "{3: 'three'}\n"
     ]
    }
   ],
   "execution_count": 50
  },
  {
   "metadata": {},
   "cell_type": "markdown",
   "source": "18. Dict Sort",
   "id": "9b23e853d71cc3c6"
  },
  {
   "metadata": {
    "ExecuteTime": {
     "end_time": "2025-01-27T08:57:43.088518Z",
     "start_time": "2025-01-27T08:57:43.074489Z"
    }
   },
   "cell_type": "code",
   "source": [
    "d = {1: 'one',  3: 'three',2: 'two'}\n",
    "sorted_d = dict(sorted(d.items()))\n",
    "print(sorted_d)\n",
    "c = {'one': 1, 'three': 3, 'two': 2}\n",
    "sorted_c = dict(sorted(c.items(), key=lambda x: x[1]))\n",
    "print(sorted_c)"
   ],
   "id": "a62976678b675d78",
   "outputs": [
    {
     "name": "stdout",
     "output_type": "stream",
     "text": [
      "{1: 'one', 2: 'two', 3: 'three'}\n",
      "{'one': 1, 'two': 2, 'three': 3}\n"
     ]
    }
   ],
   "execution_count": 54
  },
  {
   "metadata": {},
   "cell_type": "raw",
   "source": "19. Dict Filter",
   "id": "3746b112291f8a1a"
  },
  {
   "metadata": {
    "ExecuteTime": {
     "end_time": "2025-01-27T08:57:45.041154Z",
     "start_time": "2025-01-27T08:57:45.027097Z"
    }
   },
   "cell_type": "code",
   "source": [
    "d = {1: 'one',  3: 'three',2: 'two'}\n",
    "print({k: v for k, v in d.items() if v == 'one'})\n",
    "c = {'one': 1, 'three': 3, 'two': 2}\n",
    "filtered_c = dict(filter(lambda item: item[1] > 1, c.items()))\n",
    "print(filtered_c)\n"
   ],
   "id": "781d0a60ed4cd1e2",
   "outputs": [
    {
     "name": "stdout",
     "output_type": "stream",
     "text": [
      "{1: 'one'}\n",
      "{'three': 3, 'two': 2}\n"
     ]
    }
   ],
   "execution_count": 55
  },
  {
   "metadata": {},
   "cell_type": "markdown",
   "source": "20. Dict Combination",
   "id": "edcdbdc6f8e0029d"
  },
  {
   "metadata": {
    "ExecuteTime": {
     "end_time": "2025-01-27T09:01:48.500555Z",
     "start_time": "2025-01-27T09:01:48.490177Z"
    }
   },
   "cell_type": "code",
   "source": [
    "d = {1: 'one',  3: 'three',2: 'two', 4: 'one'}\n",
    "# combine values of same key\n",
    "c = {}\n",
    "for i, j in d.items():\n",
    "    c[j] = c.get(j, 0) + 1\n",
    "print(c)"
   ],
   "id": "2e213de4d2b62f26",
   "outputs": [
    {
     "name": "stdout",
     "output_type": "stream",
     "text": [
      "{'one': 2, 'three': 1, 'two': 1}\n"
     ]
    }
   ],
   "execution_count": 60
  }
 ],
 "metadata": {
  "kernelspec": {
   "display_name": "Python 3",
   "language": "python",
   "name": "python3"
  },
  "language_info": {
   "codemirror_mode": {
    "name": "ipython",
    "version": 2
   },
   "file_extension": ".py",
   "mimetype": "text/x-python",
   "name": "python",
   "nbconvert_exporter": "python",
   "pygments_lexer": "ipython2",
   "version": "2.7.6"
  }
 },
 "nbformat": 4,
 "nbformat_minor": 5
}
