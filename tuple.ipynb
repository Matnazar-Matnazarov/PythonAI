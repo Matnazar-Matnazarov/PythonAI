{
 "cells": [
  {
   "metadata": {},
   "cell_type": "markdown",
   "source": "1. Tuple creation",
   "id": "a9e6ebfc12ed9562"
  },
  {
   "cell_type": "code",
   "id": "initial_id",
   "metadata": {
    "collapsed": true,
    "ExecuteTime": {
     "end_time": "2025-01-28T06:31:11.709197Z",
     "start_time": "2025-01-28T06:31:11.700342Z"
    }
   },
   "source": [
    "a = (1, 2, 3, 4, 5)\n",
    "print(a)"
   ],
   "outputs": [
    {
     "name": "stdout",
     "output_type": "stream",
     "text": [
      "(1, 2, 3, 4, 5)\n"
     ]
    }
   ],
   "execution_count": 1
  },
  {
   "metadata": {},
   "cell_type": "markdown",
   "source": "2. Tuple access element of a tuple",
   "id": "ca1a4493919a8677"
  },
  {
   "metadata": {
    "ExecuteTime": {
     "end_time": "2025-01-28T06:31:29.898783Z",
     "start_time": "2025-01-28T06:31:29.885444Z"
    }
   },
   "cell_type": "code",
   "source": [
    "a = (1, 2, 3, 4, 5)\n",
    "print(a[2])"
   ],
   "id": "b26a59db7a09951a",
   "outputs": [
    {
     "name": "stdout",
     "output_type": "stream",
     "text": [
      "3\n"
     ]
    }
   ],
   "execution_count": 2
  },
  {
   "metadata": {},
   "cell_type": "markdown",
   "source": "3. Tuple slicing",
   "id": "b2d66d574aa6c932"
  },
  {
   "metadata": {
    "ExecuteTime": {
     "end_time": "2025-01-28T06:31:43.314353Z",
     "start_time": "2025-01-28T06:31:43.303097Z"
    }
   },
   "cell_type": "code",
   "source": [
    "a = (1, 2, 3, 4, 5)\n",
    "print(a[1:3])"
   ],
   "id": "855a3b94c75c223",
   "outputs": [
    {
     "name": "stdout",
     "output_type": "stream",
     "text": [
      "(2, 3)\n"
     ]
    }
   ],
   "execution_count": 3
  },
  {
   "metadata": {},
   "cell_type": "markdown",
   "source": "4. Tuple unpacking",
   "id": "d2f928ffc1c63a65"
  },
  {
   "metadata": {
    "ExecuteTime": {
     "end_time": "2025-01-28T06:32:02.909384Z",
     "start_time": "2025-01-28T06:32:02.896693Z"
    }
   },
   "cell_type": "code",
   "source": [
    "a = (1, 2, 3, 4, 5)\n",
    "b, c, d, e, f = a\n",
    "print(b)"
   ],
   "id": "5ac510db1a1753a9",
   "outputs": [
    {
     "name": "stdout",
     "output_type": "stream",
     "text": [
      "1\n"
     ]
    }
   ],
   "execution_count": 4
  },
  {
   "metadata": {},
   "cell_type": "markdown",
   "source": "5. Tuple length",
   "id": "3f594bc3b1be703c"
  },
  {
   "metadata": {
    "ExecuteTime": {
     "end_time": "2025-01-28T06:32:19.582165Z",
     "start_time": "2025-01-28T06:32:19.572197Z"
    }
   },
   "cell_type": "code",
   "source": [
    "a = (1, 2, 3, 4, 5)\n",
    "print(len(a))"
   ],
   "id": "6ca22b8b09502aa6",
   "outputs": [
    {
     "name": "stdout",
     "output_type": "stream",
     "text": [
      "5\n"
     ]
    }
   ],
   "execution_count": 5
  },
  {
   "metadata": {},
   "cell_type": "markdown",
   "source": "6. Tuple count of element",
   "id": "a137cc9a81a30434"
  },
  {
   "metadata": {
    "ExecuteTime": {
     "end_time": "2025-01-28T06:32:48.102142Z",
     "start_time": "2025-01-28T06:32:48.088774Z"
    }
   },
   "cell_type": "code",
   "source": [
    "a = (1, 2, 3, 4, 5, 4)\n",
    "print(a.count(4))"
   ],
   "id": "d496877ae042eb26",
   "outputs": [
    {
     "name": "stdout",
     "output_type": "stream",
     "text": [
      "2\n"
     ]
    }
   ],
   "execution_count": 6
  },
  {
   "metadata": {},
   "cell_type": "markdown",
   "source": "7. Tuple index of element",
   "id": "1ad39474f48c8f5a"
  },
  {
   "metadata": {
    "ExecuteTime": {
     "end_time": "2025-01-28T06:33:34.886317Z",
     "start_time": "2025-01-28T06:33:34.873959Z"
    }
   },
   "cell_type": "code",
   "source": [
    "a = (1, 2, 3, 4, 5)\n",
    "print(a.index(4))"
   ],
   "id": "2007451d17809ac9",
   "outputs": [
    {
     "name": "stdout",
     "output_type": "stream",
     "text": [
      "3\n"
     ]
    }
   ],
   "execution_count": 10
  },
  {
   "metadata": {},
   "cell_type": "markdown",
   "source": "8. Tuple membership",
   "id": "2dc5f1a79c5fb000"
  },
  {
   "metadata": {
    "ExecuteTime": {
     "end_time": "2025-01-28T06:33:33.463501Z",
     "start_time": "2025-01-28T06:33:33.451224Z"
    }
   },
   "cell_type": "code",
   "source": [
    "a = (1, 2, 3, 4, 5)\n",
    "print(4 in a)"
   ],
   "id": "8332774676c35817",
   "outputs": [
    {
     "name": "stdout",
     "output_type": "stream",
     "text": [
      "True\n"
     ]
    }
   ],
   "execution_count": 9
  },
  {
   "metadata": {},
   "cell_type": "markdown",
   "source": "9. Tuple concatenation",
   "id": "38680d9641f77d7c"
  },
  {
   "metadata": {
    "ExecuteTime": {
     "end_time": "2025-01-28T06:33:30.323038Z",
     "start_time": "2025-01-28T06:33:30.310095Z"
    }
   },
   "cell_type": "code",
   "source": [
    "a = (1, 2, 3, 4, 5)\n",
    "b = (6, 7, 8)\n",
    "print(a + b)"
   ],
   "id": "9f88dd62a10d0eb2",
   "outputs": [
    {
     "name": "stdout",
     "output_type": "stream",
     "text": [
      "(1, 2, 3, 4, 5, 6, 7, 8)\n"
     ]
    }
   ],
   "execution_count": 8
  },
  {
   "metadata": {},
   "cell_type": "markdown",
   "source": "10. Tuple repetition",
   "id": "5b90abdae79d45c4"
  },
  {
   "metadata": {
    "ExecuteTime": {
     "end_time": "2025-01-28T06:34:11.965193Z",
     "start_time": "2025-01-28T06:34:11.953232Z"
    }
   },
   "cell_type": "code",
   "source": [
    "a = (1, 2, 3, 4, 5)\n",
    "print(a * 2)"
   ],
   "id": "62c66da8b50eb7de",
   "outputs": [
    {
     "name": "stdout",
     "output_type": "stream",
     "text": [
      "(1, 2, 3, 4, 5, 1, 2, 3, 4, 5)\n"
     ]
    }
   ],
   "execution_count": 12
  },
  {
   "metadata": {},
   "cell_type": "markdown",
   "source": "11. Tuple min, max element",
   "id": "6f51a1b381d88445"
  },
  {
   "metadata": {
    "ExecuteTime": {
     "end_time": "2025-01-28T06:34:09.857633Z",
     "start_time": "2025-01-28T06:34:09.843247Z"
    }
   },
   "cell_type": "code",
   "source": [
    "a = (1, 2, 3, 4, 5)\n",
    "print(min(a), max(a))"
   ],
   "id": "efb65c451382a0ac",
   "outputs": [
    {
     "name": "stdout",
     "output_type": "stream",
     "text": [
      "1 5\n"
     ]
    }
   ],
   "execution_count": 11
  },
  {
   "metadata": {},
   "cell_type": "markdown",
   "source": "12. Tuple convert list to tuple",
   "id": "809fce94a5d7db8"
  },
  {
   "metadata": {
    "ExecuteTime": {
     "end_time": "2025-01-28T06:34:37.142220Z",
     "start_time": "2025-01-28T06:34:37.128561Z"
    }
   },
   "cell_type": "code",
   "source": [
    "a = [1, 2, 3, 4, 5]\n",
    "print(tuple(a))"
   ],
   "id": "86cbf01845154a4d",
   "outputs": [
    {
     "name": "stdout",
     "output_type": "stream",
     "text": [
      "(1, 2, 3, 4, 5)\n"
     ]
    }
   ],
   "execution_count": 14
  },
  {
   "metadata": {},
   "cell_type": "markdown",
   "source": "13. Tuple convert string to tuple",
   "id": "639d93631c0bf3f1"
  },
  {
   "metadata": {
    "ExecuteTime": {
     "end_time": "2025-01-28T06:34:34.145407Z",
     "start_time": "2025-01-28T06:34:34.132542Z"
    }
   },
   "cell_type": "code",
   "source": [
    "a = '12345'\n",
    "print(tuple(a))"
   ],
   "id": "13b6538f64cdf3d4",
   "outputs": [
    {
     "name": "stdout",
     "output_type": "stream",
     "text": [
      "('1', '2', '3', '4', '5')\n"
     ]
    }
   ],
   "execution_count": 13
  },
  {
   "metadata": {},
   "cell_type": "markdown",
   "source": "14. Tuple convert set to tuple",
   "id": "c8886fefe4b364cf"
  },
  {
   "metadata": {
    "ExecuteTime": {
     "end_time": "2025-01-28T06:34:51.365924Z",
     "start_time": "2025-01-28T06:34:51.353453Z"
    }
   },
   "cell_type": "code",
   "source": [
    "a = {1, 2, 3, 4, 5}\n",
    "print(tuple(a))"
   ],
   "id": "55973597fed1a19e",
   "outputs": [
    {
     "name": "stdout",
     "output_type": "stream",
     "text": [
      "(1, 2, 3, 4, 5)\n"
     ]
    }
   ],
   "execution_count": 15
  },
  {
   "metadata": {},
   "cell_type": "markdown",
   "source": "15. Tuple convert dict to tuple",
   "id": "4ed74ecd7f2af36b"
  },
  {
   "metadata": {
    "ExecuteTime": {
     "end_time": "2025-01-28T06:35:04.654217Z",
     "start_time": "2025-01-28T06:35:04.641125Z"
    }
   },
   "cell_type": "code",
   "source": [
    "a = {1: 'one', 2: 'two', 3: 'three'}\n",
    "print(tuple(a))"
   ],
   "id": "92a2f499eb8bcef7",
   "outputs": [
    {
     "name": "stdout",
     "output_type": "stream",
     "text": [
      "(1, 2, 3)\n"
     ]
    }
   ],
   "execution_count": 16
  },
  {
   "metadata": {},
   "cell_type": "markdown",
   "source": "16. Tuple convert tuple to tuple",
   "id": "27f7bd4c98442940"
  },
  {
   "metadata": {
    "ExecuteTime": {
     "end_time": "2025-01-28T06:35:27.824940Z",
     "start_time": "2025-01-28T06:35:27.814581Z"
    }
   },
   "cell_type": "code",
   "source": [
    "a = (1, 2, 3, 4, 5)\n",
    "print(tuple(a))"
   ],
   "id": "3c58cedd49a39a7f",
   "outputs": [
    {
     "name": "stdout",
     "output_type": "stream",
     "text": [
      "(1, 2, 3, 4, 5)\n"
     ]
    }
   ],
   "execution_count": 17
  },
  {
   "metadata": {},
   "cell_type": "markdown",
   "source": "17. Tuple convert range to tuple",
   "id": "d37e59203b0e517a"
  },
  {
   "metadata": {
    "ExecuteTime": {
     "end_time": "2025-01-28T06:35:29.626962Z",
     "start_time": "2025-01-28T06:35:29.615303Z"
    }
   },
   "cell_type": "code",
   "source": [
    "a = range(5)\n",
    "print(tuple(a))"
   ],
   "id": "5e2f674c8e87e02c",
   "outputs": [
    {
     "name": "stdout",
     "output_type": "stream",
     "text": [
      "(0, 1, 2, 3, 4)\n"
     ]
    }
   ],
   "execution_count": 18
  },
  {
   "metadata": {},
   "cell_type": "markdown",
   "source": "18. Tuple convert bytes to tuple",
   "id": "50ffa568b4cd7eae"
  },
  {
   "metadata": {
    "ExecuteTime": {
     "end_time": "2025-01-28T06:35:42.392568Z",
     "start_time": "2025-01-28T06:35:42.381087Z"
    }
   },
   "cell_type": "code",
   "source": [
    "a = b'12345'\n",
    "print(tuple(a))"
   ],
   "id": "244fc27c00143934",
   "outputs": [
    {
     "name": "stdout",
     "output_type": "stream",
     "text": [
      "(49, 50, 51, 52, 53)\n"
     ]
    }
   ],
   "execution_count": 19
  },
  {
   "metadata": {},
   "cell_type": "markdown",
   "source": "19. Tuple convert bytearray to tuple",
   "id": "d0fef7ad59d2a530"
  },
  {
   "metadata": {
    "ExecuteTime": {
     "end_time": "2025-01-28T06:35:59.616062Z",
     "start_time": "2025-01-28T06:35:59.604731Z"
    }
   },
   "cell_type": "code",
   "source": [
    "a = bytearray(b'12345')\n",
    "print(tuple(a))"
   ],
   "id": "3af558706b941a83",
   "outputs": [
    {
     "name": "stdout",
     "output_type": "stream",
     "text": [
      "(49, 50, 51, 52, 53)\n"
     ]
    }
   ],
   "execution_count": 20
  },
  {
   "metadata": {},
   "cell_type": "markdown",
   "source": "20. Tuple convert memoryview to tuple",
   "id": "b6f7115714638f2"
  },
  {
   "metadata": {
    "ExecuteTime": {
     "end_time": "2025-01-28T06:36:30.379509Z",
     "start_time": "2025-01-28T06:36:30.368355Z"
    }
   },
   "cell_type": "code",
   "source": [
    "a = memoryview(b'12345')\n",
    "print(tuple(a))"
   ],
   "id": "8555e2505dc40e3c",
   "outputs": [
    {
     "name": "stdout",
     "output_type": "stream",
     "text": [
      "(49, 50, 51, 52, 53)\n"
     ]
    }
   ],
   "execution_count": 25
  }
 ],
 "metadata": {
  "kernelspec": {
   "display_name": "Python 3",
   "language": "python",
   "name": "python3"
  },
  "language_info": {
   "codemirror_mode": {
    "name": "ipython",
    "version": 2
   },
   "file_extension": ".py",
   "mimetype": "text/x-python",
   "name": "python",
   "nbconvert_exporter": "python",
   "pygments_lexer": "ipython2",
   "version": "2.7.6"
  }
 },
 "nbformat": 4,
 "nbformat_minor": 5
}
