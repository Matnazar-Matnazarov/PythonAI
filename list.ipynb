{
 "cells": [
  {
   "metadata": {},
   "cell_type": "markdown",
   "source": "1. List append element to a list",
   "id": "8c427bde915bf2cb"
  },
  {
   "cell_type": "code",
   "id": "initial_id",
   "metadata": {
    "collapsed": true,
    "ExecuteTime": {
     "end_time": "2025-01-28T06:23:06.762752Z",
     "start_time": "2025-01-28T06:23:06.750804Z"
    }
   },
   "source": [
    "a = [1, 2, 3, 4, 5, 6]\n",
    "for i in range(7, 10):\n",
    "    a.append(i)\n",
    "    a+= [i]\n",
    "print(a)"
   ],
   "outputs": [
    {
     "name": "stdout",
     "output_type": "stream",
     "text": [
      "[1, 2, 3, 4, 5, 6, 7, 7, 8, 8, 9, 9]\n"
     ]
    }
   ],
   "execution_count": 4
  },
  {
   "metadata": {},
   "cell_type": "markdown",
   "source": "2. List extend elements of a list",
   "id": "5e2d3139858a9344"
  },
  {
   "metadata": {
    "ExecuteTime": {
     "end_time": "2025-01-28T06:22:45.456770Z",
     "start_time": "2025-01-28T06:22:45.444239Z"
    }
   },
   "cell_type": "code",
   "source": [
    "a = [1, 2, 3, 4, 5, 6]\n",
    "b = [7, 8, 9]\n",
    "a.extend(b)\n",
    "print(a)"
   ],
   "id": "50c6a71b42d2057d",
   "outputs": [
    {
     "name": "stdout",
     "output_type": "stream",
     "text": [
      "[1, 2, 3, 4, 5, 6, 7, 8, 9]\n"
     ]
    }
   ],
   "execution_count": 3
  },
  {
   "metadata": {},
   "cell_type": "markdown",
   "source": "3. List insert element at a specific index",
   "id": "80758a030794fb01"
  },
  {
   "metadata": {
    "ExecuteTime": {
     "end_time": "2025-01-28T06:23:25.470626Z",
     "start_time": "2025-01-28T06:23:25.459813Z"
    }
   },
   "cell_type": "code",
   "source": [
    "a = [1, 2, 3, 4, 5, 6]\n",
    "a.insert(2, 7)\n",
    "print(a)"
   ],
   "id": "2eed9e9f8c3629f7",
   "outputs": [
    {
     "name": "stdout",
     "output_type": "stream",
     "text": [
      "[1, 2, 7, 3, 4, 5, 6]\n"
     ]
    }
   ],
   "execution_count": 5
  },
  {
   "metadata": {},
   "cell_type": "markdown",
   "source": "4. List remove element from a list",
   "id": "92a277ff8298a834"
  },
  {
   "metadata": {},
   "cell_type": "code",
   "outputs": [],
   "execution_count": null,
   "source": [
    "a = [1, 2, 3, 4, 5, 6]\n",
    "a.remove(4)\n",
    "print(a)"
   ],
   "id": "5422e5c519d7a6c2"
  },
  {
   "metadata": {},
   "cell_type": "markdown",
   "source": "5. List pop element from a list",
   "id": "e2eca0a3d5ad656a"
  },
  {
   "metadata": {
    "ExecuteTime": {
     "end_time": "2025-01-28T06:24:00.001719Z",
     "start_time": "2025-01-28T06:23:59.987809Z"
    }
   },
   "cell_type": "code",
   "source": [
    "a = [1, 2, 3, 4, 5, 6]\n",
    "print(a.pop())\n",
    "print(a)"
   ],
   "id": "bfa471572e80f2ec",
   "outputs": [
    {
     "name": "stdout",
     "output_type": "stream",
     "text": [
      "6\n",
      "[1, 2, 3, 4, 5]\n"
     ]
    }
   ],
   "execution_count": 6
  },
  {
   "metadata": {},
   "cell_type": "markdown",
   "source": "6. List clear all elements from a list",
   "id": "395046174a659aa2"
  },
  {
   "metadata": {
    "ExecuteTime": {
     "end_time": "2025-01-28T06:24:16.710521Z",
     "start_time": "2025-01-28T06:24:16.696478Z"
    }
   },
   "cell_type": "code",
   "source": [
    "a = [1, 2, 3, 4, 5, 6]\n",
    "a.clear()\n",
    "print(a)"
   ],
   "id": "9626282a618c48a2",
   "outputs": [
    {
     "name": "stdout",
     "output_type": "stream",
     "text": [
      "[]\n"
     ]
    }
   ],
   "execution_count": 7
  },
  {
   "metadata": {},
   "cell_type": "markdown",
   "source": "7. List copy elements from a list",
   "id": "8879dbb2c8802e90"
  },
  {
   "metadata": {
    "ExecuteTime": {
     "end_time": "2025-01-28T06:24:45.660215Z",
     "start_time": "2025-01-28T06:24:45.646927Z"
    }
   },
   "cell_type": "code",
   "source": [
    "a = [1, 2, 3, 4, 5, 6]\n",
    "b = a.copy()\n",
    "print(b)\n",
    "b.append(7)\n",
    "print(b)\n",
    "print(a)"
   ],
   "id": "fff866c713f7eade",
   "outputs": [
    {
     "name": "stdout",
     "output_type": "stream",
     "text": [
      "[1, 2, 3, 4, 5, 6]\n",
      "[1, 2, 3, 4, 5, 6, 7]\n",
      "[1, 2, 3, 4, 5, 6]\n"
     ]
    }
   ],
   "execution_count": 9
  },
  {
   "metadata": {},
   "cell_type": "markdown",
   "source": "8. List index of element in a list",
   "id": "5cfb55310321d913"
  },
  {
   "metadata": {},
   "cell_type": "code",
   "outputs": [],
   "execution_count": null,
   "source": [
    "a = [1, 2, 3, 4, 5, 6]\n",
    "print(a.index(4))"
   ],
   "id": "e2d5ec9a84909962"
  },
  {
   "metadata": {},
   "cell_type": "markdown",
   "source": "9. List count of element in a list",
   "id": "ccc895f38f37076e"
  },
  {
   "metadata": {},
   "cell_type": "code",
   "outputs": [],
   "execution_count": null,
   "source": [
    "a = [1, 2, 3, 4, 5, 6, 4]\n",
    "print(a.count(4))"
   ],
   "id": "1e11b759b7b9676b"
  },
  {
   "metadata": {},
   "cell_type": "markdown",
   "source": "10. List reverse elements of a list",
   "id": "5a49f1ed1c7f701d"
  },
  {
   "metadata": {},
   "cell_type": "code",
   "outputs": [],
   "execution_count": null,
   "source": [
    "a = [1, 2, 3, 4, 5, 6]\n",
    "a.reverse()\n",
    "print(a)\n",
    "print(a[::-1])"
   ],
   "id": "5e4482457aa6f1f9"
  },
  {
   "metadata": {},
   "cell_type": "markdown",
   "source": "11. List sort elements of a list",
   "id": "598a31c8156f167e"
  },
  {
   "metadata": {
    "ExecuteTime": {
     "end_time": "2025-01-28T06:26:30.611628Z",
     "start_time": "2025-01-28T06:26:30.597534Z"
    }
   },
   "cell_type": "code",
   "source": [
    "a = [1, 3, 2, 5, 4, 6]\n",
    "print(sorted(a, reverse=True))\n",
    "a.sort()\n",
    "print(a)"
   ],
   "id": "92a664904b3877f6",
   "outputs": [
    {
     "name": "stdout",
     "output_type": "stream",
     "text": [
      "[6, 5, 4, 3, 2, 1]\n",
      "[1, 2, 3, 4, 5, 6]\n"
     ]
    }
   ],
   "execution_count": 10
  },
  {
   "metadata": {},
   "cell_type": "markdown",
   "source": "12. List find max or min element of a list",
   "id": "14d5dfc42103e98e"
  },
  {
   "metadata": {},
   "cell_type": "code",
   "outputs": [],
   "execution_count": null,
   "source": [
    "a = [1, 2, 3, 4, 5, 6]\n",
    "print(max(a), min(a))"
   ],
   "id": "dba2be0b81c48eb9"
  },
  {
   "metadata": {},
   "cell_type": "markdown",
   "source": "",
   "id": "e30a715591b3aaac"
  },
  {
   "metadata": {},
   "cell_type": "markdown",
   "source": "13. List find element in a list",
   "id": "17722663fc53625"
  },
  {
   "metadata": {
    "ExecuteTime": {
     "end_time": "2025-01-28T06:28:15.291815Z",
     "start_time": "2025-01-28T06:28:15.279681Z"
    }
   },
   "cell_type": "code",
   "source": [
    "a = [1, 2, 3, 4, 5, 6]\n",
    "print(4 in a)\n",
    "print(list(filter(lambda x: x == 4, a)))"
   ],
   "id": "73568c7d295e1584",
   "outputs": [
    {
     "name": "stdout",
     "output_type": "stream",
     "text": [
      "True\n",
      "[4]\n"
     ]
    }
   ],
   "execution_count": 13
  },
  {
   "metadata": {},
   "cell_type": "markdown",
   "source": "14. List slice elements of a list",
   "id": "bad256130b8f69d4"
  },
  {
   "metadata": {},
   "cell_type": "code",
   "outputs": [],
   "execution_count": null,
   "source": [
    "a = [1, 2, 3, 4, 5, 6]\n",
    "print(a[1:4])\n"
   ],
   "id": "5777788d345ecba2"
  },
  {
   "metadata": {},
   "cell_type": "markdown",
   "source": "15. List a[::k] slice elements of a list",
   "id": "6e37aa797e2c4291"
  },
  {
   "metadata": {
    "ExecuteTime": {
     "end_time": "2025-01-28T06:29:28.156407Z",
     "start_time": "2025-01-28T06:29:28.144077Z"
    }
   },
   "cell_type": "code",
   "source": [
    "a = [1, 2, 3, 4, 5, 6]\n",
    "k = 3\n",
    "print(a[::k])"
   ],
   "id": "e1f92f458e965e45",
   "outputs": [
    {
     "name": "stdout",
     "output_type": "stream",
     "text": [
      "[1, 4]\n"
     ]
    }
   ],
   "execution_count": 15
  }
 ],
 "metadata": {
  "kernelspec": {
   "display_name": "Python 3",
   "language": "python",
   "name": "python3"
  },
  "language_info": {
   "codemirror_mode": {
    "name": "ipython",
    "version": 2
   },
   "file_extension": ".py",
   "mimetype": "text/x-python",
   "name": "python",
   "nbconvert_exporter": "python",
   "pygments_lexer": "ipython2",
   "version": "2.7.6"
  }
 },
 "nbformat": 4,
 "nbformat_minor": 5
}
