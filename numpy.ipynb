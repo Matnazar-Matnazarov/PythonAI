{
 "cells": [
  {
   "cell_type": "code",
   "id": "initial_id",
   "metadata": {
    "collapsed": true,
    "ExecuteTime": {
     "end_time": "2025-01-29T18:38:54.676111Z",
     "start_time": "2025-01-29T18:38:54.126022Z"
    }
   },
   "source": [
    "import numpy as np\n",
    "import matplotlib.pyplot as plt"
   ],
   "outputs": [],
   "execution_count": 2
  },
  {
   "cell_type": "markdown",
   "id": "c48157d353c82a89",
   "metadata": {},
   "source": [
    "# 1. Create a numpy array"
   ]
  },
  {
   "cell_type": "code",
   "execution_count": 3,
   "id": "ce24b0eeda709a0f",
   "metadata": {
    "ExecuteTime": {
     "end_time": "2025-01-29T16:00:34.698187Z",
     "start_time": "2025-01-29T16:00:34.685638Z"
    }
   },
   "outputs": [
    {
     "name": "stdout",
     "output_type": "stream",
     "text": [
      "[1 2 3 4 5]\n"
     ]
    }
   ],
   "source": [
    "a = np.array([1, 2, 3, 4, 5])\n",
    "print(a)"
   ]
  },
  {
   "cell_type": "markdown",
   "id": "c67f48adb4243f16",
   "metadata": {},
   "source": [
    "# 2. Numpy array access element of a numpy array"
   ]
  },
  {
   "cell_type": "code",
   "execution_count": 4,
   "id": "a199a517b5329e61",
   "metadata": {
    "ExecuteTime": {
     "end_time": "2025-01-29T16:01:27.380905Z",
     "start_time": "2025-01-29T16:01:27.369053Z"
    }
   },
   "outputs": [
    {
     "name": "stdout",
     "output_type": "stream",
     "text": [
      "3\n"
     ]
    }
   ],
   "source": [
    "a = np.array([1, 2, 3, 4, 5])\n",
    "print(a[2])"
   ]
  },
  {
   "cell_type": "markdown",
   "id": "cb85a0dd8eae48d7",
   "metadata": {},
   "source": [
    "# 3. Numpy array slicing"
   ]
  },
  {
   "cell_type": "code",
   "execution_count": 5,
   "id": "1737d8a7d055c683",
   "metadata": {
    "ExecuteTime": {
     "end_time": "2025-01-29T16:01:40.914875Z",
     "start_time": "2025-01-29T16:01:40.901405Z"
    }
   },
   "outputs": [
    {
     "name": "stdout",
     "output_type": "stream",
     "text": [
      "[2 3]\n"
     ]
    }
   ],
   "source": [
    "a = np.array([1, 2, 3, 4, 5])\n",
    "print(a[1:3])"
   ]
  },
  {
   "cell_type": "markdown",
   "id": "fb2fc0c728f0a494",
   "metadata": {},
   "source": [
    "# 4. Numpy array length"
   ]
  },
  {
   "cell_type": "code",
   "execution_count": 6,
   "id": "279334ce10425cc5",
   "metadata": {
    "ExecuteTime": {
     "end_time": "2025-01-29T16:01:56.108724Z",
     "start_time": "2025-01-29T16:01:56.093069Z"
    }
   },
   "outputs": [
    {
     "name": "stdout",
     "output_type": "stream",
     "text": [
      "5\n"
     ]
    }
   ],
   "source": [
    "a = np.array([1, 2, 3, 4, 5])\n",
    "print(len(a))"
   ]
  },
  {
   "cell_type": "markdown",
   "id": "ba20ed14e46d0ba4",
   "metadata": {},
   "source": [
    "# 5. Numpy array min, max element"
   ]
  },
  {
   "cell_type": "code",
   "execution_count": 7,
   "id": "2436e09263b22fda",
   "metadata": {
    "ExecuteTime": {
     "end_time": "2025-01-29T16:02:10.406624Z",
     "start_time": "2025-01-29T16:02:10.394415Z"
    }
   },
   "outputs": [
    {
     "name": "stdout",
     "output_type": "stream",
     "text": [
      "1 5\n"
     ]
    }
   ],
   "source": [
    "a = np.array([1, 2, 3, 4, 5])\n",
    "print(np.min(a), np.max(a))"
   ]
  },
  {
   "cell_type": "markdown",
   "id": "900615b715828d74",
   "metadata": {},
   "source": [
    "# 6. Numpy array reshape"
   ]
  },
  {
   "cell_type": "code",
   "execution_count": 10,
   "id": "8ac6df8f227cb7f5",
   "metadata": {
    "ExecuteTime": {
     "end_time": "2025-01-29T16:03:18.938371Z",
     "start_time": "2025-01-29T16:03:18.924558Z"
    }
   },
   "outputs": [
    {
     "name": "stdout",
     "output_type": "stream",
     "text": [
      "[[1 2 3 4 5 6]]\n",
      "[[1 2 3]\n",
      " [4 5 6]]\n"
     ]
    }
   ],
   "source": [
    "a = np.array([1, 2, 3, 4, 5, 6])\n",
    "print(a.reshape(1, 6))\n",
    "print(a.reshape(2, 3))"
   ]
  },
  {
   "cell_type": "markdown",
   "id": "1beafffba2199165",
   "metadata": {},
   "source": [
    "# 7. Numpy array flatten"
   ]
  },
  {
   "cell_type": "code",
   "execution_count": 11,
   "id": "c34f8287bc42ee61",
   "metadata": {
    "ExecuteTime": {
     "end_time": "2025-01-29T16:03:38.267722Z",
     "start_time": "2025-01-29T16:03:38.255291Z"
    }
   },
   "outputs": [
    {
     "name": "stdout",
     "output_type": "stream",
     "text": [
      "[1 2 3 4 5 6]\n"
     ]
    }
   ],
   "source": [
    "a = np.array([[1, 2, 3], [4, 5, 6]])\n",
    "print(a.flatten())"
   ]
  },
  {
   "cell_type": "markdown",
   "id": "fd5aef6f81fe693b",
   "metadata": {},
   "source": [
    "# 8. Numpy array transpose"
   ]
  },
  {
   "cell_type": "code",
   "execution_count": 12,
   "id": "fb9d3acdbc6566fb",
   "metadata": {
    "ExecuteTime": {
     "end_time": "2025-01-29T16:03:58.882399Z",
     "start_time": "2025-01-29T16:03:58.870175Z"
    }
   },
   "outputs": [
    {
     "name": "stdout",
     "output_type": "stream",
     "text": [
      "[[1 4]\n",
      " [2 5]\n",
      " [3 6]]\n"
     ]
    }
   ],
   "source": [
    "a = np.array([[1, 2, 3], [4, 5, 6]])\n",
    "print(a.T)"
   ]
  },
  {
   "cell_type": "markdown",
   "id": "62e0feaad178a4fd",
   "metadata": {},
   "source": [
    "# 9. Numpy array concatenate"
   ]
  },
  {
   "cell_type": "code",
   "execution_count": 13,
   "id": "25fda0b42fec0dfd",
   "metadata": {
    "ExecuteTime": {
     "end_time": "2025-01-29T16:04:26.877432Z",
     "start_time": "2025-01-29T16:04:26.864800Z"
    }
   },
   "outputs": [
    {
     "name": "stdout",
     "output_type": "stream",
     "text": [
      "[1 2 3 4 5 6]\n"
     ]
    }
   ],
   "source": [
    "a = np.array([1, 2, 3])\n",
    "b = np.array([4, 5, 6])\n",
    "print(np.concatenate((a, b)))"
   ]
  },
  {
   "cell_type": "markdown",
   "id": "9272c7a27c002d16",
   "metadata": {},
   "source": [
    "# 10. Numpy array split"
   ]
  },
  {
   "cell_type": "code",
   "execution_count": 14,
   "id": "1228146e9eac7710",
   "metadata": {
    "ExecuteTime": {
     "end_time": "2025-01-29T16:04:48.355053Z",
     "start_time": "2025-01-29T16:04:48.339994Z"
    }
   },
   "outputs": [
    {
     "name": "stdout",
     "output_type": "stream",
     "text": [
      "[array([1, 2, 3]), array([4, 5, 6])]\n"
     ]
    }
   ],
   "source": [
    "a = np.array([1, 2, 3, 4, 5, 6])\n",
    "print(np.split(a, 2))"
   ]
  },
  {
   "cell_type": "markdown",
   "id": "839dbaf554e16996",
   "metadata": {},
   "source": [
    "# 11. Numpy array search"
   ]
  },
  {
   "cell_type": "code",
   "execution_count": 15,
   "id": "9821bb79e51befe0",
   "metadata": {
    "ExecuteTime": {
     "end_time": "2025-01-29T16:05:10.391558Z",
     "start_time": "2025-01-29T16:05:10.379458Z"
    }
   },
   "outputs": [
    {
     "name": "stdout",
     "output_type": "stream",
     "text": [
      "(array([3]),)\n"
     ]
    }
   ],
   "source": [
    "a = np.array([1, 2, 3, 4, 5, 6])\n",
    "print(np.where(a == 4))"
   ]
  },
  {
   "cell_type": "markdown",
   "id": "501b601e52f8d40e",
   "metadata": {},
   "source": [
    "# 12. Numpy array sort"
   ]
  },
  {
   "cell_type": "code",
   "execution_count": 16,
   "id": "d42574ca619514ba",
   "metadata": {
    "ExecuteTime": {
     "end_time": "2025-01-29T16:05:22.215904Z",
     "start_time": "2025-01-29T16:05:22.194744Z"
    }
   },
   "outputs": [
    {
     "name": "stdout",
     "output_type": "stream",
     "text": [
      "[1 2 3 4 5 6]\n"
     ]
    }
   ],
   "source": [
    "a = np.array([1, 3, 2, 5, 4, 6])\n",
    "print(np.sort(a))"
   ]
  },
  {
   "cell_type": "markdown",
   "id": "871607b026d57bf2",
   "metadata": {},
   "source": [
    "# 13. Numpy array filter"
   ]
  },
  {
   "cell_type": "code",
   "execution_count": 17,
   "id": "4ef7ed1705905f0c",
   "metadata": {
    "ExecuteTime": {
     "end_time": "2025-01-29T16:05:38.216523Z",
     "start_time": "2025-01-29T16:05:38.202533Z"
    }
   },
   "outputs": [
    {
     "name": "stdout",
     "output_type": "stream",
     "text": [
      "[np.int64(4)]\n"
     ]
    }
   ],
   "source": [
    "a = np.array([1, 2, 3, 4, 5, 6])\n",
    "print(list(filter(lambda x: x == 4, a)))"
   ]
  },
  {
   "cell_type": "markdown",
   "id": "3b81b76124950ce9",
   "metadata": {},
   "source": [
    "# 14. Numpy array copy"
   ]
  },
  {
   "cell_type": "code",
   "execution_count": 18,
   "id": "1e55beaf5be97b24",
   "metadata": {
    "ExecuteTime": {
     "end_time": "2025-01-29T16:06:00.950835Z",
     "start_time": "2025-01-29T16:06:00.934577Z"
    }
   },
   "outputs": [
    {
     "name": "stdout",
     "output_type": "stream",
     "text": [
      "[1 2 3 4 5 6]\n",
      "[0 2 3 4 5 6]\n",
      "[1 2 3 4 5 6]\n"
     ]
    }
   ],
   "source": [
    "a = np.array([1, 2, 3, 4, 5, 6])\n",
    "b = a.copy()\n",
    "print(b)\n",
    "b[0] = 0\n",
    "print(b)\n",
    "print(a)"
   ]
  },
  {
   "cell_type": "markdown",
   "id": "2cbe13e96fb730db",
   "metadata": {},
   "source": [
    "# 15. Numpy array clear all elements"
   ]
  },
  {
   "cell_type": "code",
   "execution_count": 19,
   "id": "52973b27ae16f51b",
   "metadata": {
    "ExecuteTime": {
     "end_time": "2025-01-29T16:06:22.803212Z",
     "start_time": "2025-01-29T16:06:22.790668Z"
    }
   },
   "outputs": [
    {
     "name": "stdout",
     "output_type": "stream",
     "text": [
      "[]\n"
     ]
    }
   ],
   "source": [
    "a = np.array([1, 2, 3, 4, 5, 6])\n",
    "print(a)\n",
    "a = np.array([])\n",
    "print(a)"
   ]
  },
  {
   "cell_type": "markdown",
   "id": "e8915d9706cf7063",
   "metadata": {},
   "source": [
    "# 16. Numpy array membership"
   ]
  },
  {
   "cell_type": "code",
   "execution_count": 20,
   "id": "8056ac88be403b78",
   "metadata": {
    "ExecuteTime": {
     "end_time": "2025-01-29T16:06:40.372293Z",
     "start_time": "2025-01-29T16:06:40.359595Z"
    }
   },
   "outputs": [
    {
     "name": "stdout",
     "output_type": "stream",
     "text": [
      "True\n"
     ]
    }
   ],
   "source": [
    "a = np.array([1, 2, 3, 4, 5, 6])\n",
    "print(4 in a)"
   ]
  },
  {
   "cell_type": "markdown",
   "id": "e0ae2398f51945a5",
   "metadata": {},
   "source": [
    "# 17. Numpy array repeat"
   ]
  },
  {
   "cell_type": "code",
   "execution_count": 21,
   "id": "884d47077a9033dd",
   "metadata": {
    "ExecuteTime": {
     "end_time": "2025-01-29T16:06:56.847187Z",
     "start_time": "2025-01-29T16:06:56.836639Z"
    }
   },
   "outputs": [
    {
     "name": "stdout",
     "output_type": "stream",
     "text": [
      "[1 1 2 2 3 3 4 4 5 5 6 6]\n"
     ]
    }
   ],
   "source": [
    "a = np.array([1, 2, 3, 4, 5, 6])\n",
    "print(np.repeat(a, 2))"
   ]
  },
  {
   "cell_type": "markdown",
   "id": "539148bed2eba83",
   "metadata": {},
   "source": [
    "# 18. Numpy create vector range and range(a, b, step)"
   ]
  },
  {
   "cell_type": "code",
   "execution_count": 23,
   "id": "8962d6f65c4e3171",
   "metadata": {
    "ExecuteTime": {
     "end_time": "2025-01-29T16:08:45.777612Z",
     "start_time": "2025-01-29T16:08:45.765257Z"
    }
   },
   "outputs": [
    {
     "name": "stdout",
     "output_type": "stream",
     "text": [
      "[0 1 2 3 4]\n",
      "[1 2 3 4]\n",
      "[1 3]\n"
     ]
    }
   ],
   "source": [
    "a = np.arange(5)\n",
    "print(a)\n",
    "a = np.arange(1, 5)\n",
    "print(a)\n",
    "a = np.arange(1, 5, 2)\n",
    "print(a)"
   ]
  },
  {
   "cell_type": "markdown",
   "id": "84f661a5dddd89a8",
   "metadata": {},
   "source": [
    "# 19. Numpy create 3x3 matrix range(a, b, step)"
   ]
  },
  {
   "cell_type": "code",
   "execution_count": 25,
   "id": "7570379700bc4bd5",
   "metadata": {
    "ExecuteTime": {
     "end_time": "2025-01-29T16:15:44.231407Z",
     "start_time": "2025-01-29T16:15:44.217733Z"
    }
   },
   "outputs": [
    {
     "name": "stdout",
     "output_type": "stream",
     "text": [
      "[[0 1 2]\n",
      " [3 4 5]\n",
      " [6 7 8]]\n"
     ]
    }
   ],
   "source": [
    "a = np.arange(9).reshape(3, 3)\n",
    "print(a)"
   ]
  },
  {
   "cell_type": "markdown",
   "id": "9432d89a09bc76cc",
   "metadata": {},
   "source": [
    "# 20. Numpy create 3x3 matrix with zeros"
   ]
  },
  {
   "cell_type": "code",
   "execution_count": 26,
   "id": "7e636bb57c95101c",
   "metadata": {
    "ExecuteTime": {
     "end_time": "2025-01-29T16:16:07.604300Z",
     "start_time": "2025-01-29T16:16:07.593092Z"
    }
   },
   "outputs": [
    {
     "name": "stdout",
     "output_type": "stream",
     "text": [
      "[[0. 0. 0.]\n",
      " [0. 0. 0.]\n",
      " [0. 0. 0.]]\n"
     ]
    }
   ],
   "source": [
    "a = np.zeros((3, 3))\n",
    "print(a)"
   ]
  },
  {
   "cell_type": "markdown",
   "id": "1982e4c31065a704",
   "metadata": {},
   "source": [
    "# 21. Numpy create 3x3 matrix with ones"
   ]
  },
  {
   "cell_type": "code",
   "execution_count": 27,
   "id": "ee6ce385e38af58",
   "metadata": {
    "ExecuteTime": {
     "end_time": "2025-01-29T16:17:06.833576Z",
     "start_time": "2025-01-29T16:17:06.818729Z"
    }
   },
   "outputs": [
    {
     "name": "stdout",
     "output_type": "stream",
     "text": [
      "[[1. 1. 1.]\n",
      " [1. 1. 1.]\n",
      " [1. 1. 1.]]\n"
     ]
    }
   ],
   "source": [
    "a = np.ones((3, 3))\n",
    "print(a)"
   ]
  },
  {
   "cell_type": "markdown",
   "id": "51d452f31a35b5f5",
   "metadata": {},
   "source": [
    "# 22. Numpy create 3x3 matrix with random values"
   ]
  },
  {
   "cell_type": "code",
   "execution_count": 28,
   "id": "adf3da378b7aa695",
   "metadata": {
    "ExecuteTime": {
     "end_time": "2025-01-29T16:17:22.803652Z",
     "start_time": "2025-01-29T16:17:22.743177Z"
    }
   },
   "outputs": [
    {
     "name": "stdout",
     "output_type": "stream",
     "text": [
      "[[0.14583097 0.58075378 0.28841276]\n",
      " [0.24602763 0.15144373 0.6895659 ]\n",
      " [0.58422748 0.8340014  0.30782489]]\n"
     ]
    }
   ],
   "source": [
    "a = np.random.random((3, 3))\n",
    "print(a)"
   ]
  },
  {
   "cell_type": "markdown",
   "id": "602ed85a95d6ef10",
   "metadata": {},
   "source": [
    "# 23. Numpy create 3x3 identity matrix"
   ]
  },
  {
   "cell_type": "code",
   "execution_count": 29,
   "id": "b319be68f8567889",
   "metadata": {
    "ExecuteTime": {
     "end_time": "2025-01-29T16:17:57.992566Z",
     "start_time": "2025-01-29T16:17:57.962300Z"
    }
   },
   "outputs": [
    {
     "name": "stdout",
     "output_type": "stream",
     "text": [
      "[[1. 0. 0.]\n",
      " [0. 1. 0.]\n",
      " [0. 0. 1.]]\n"
     ]
    }
   ],
   "source": [
    "a = np.eye(3)\n",
    "print(a)"
   ]
  },
  {
   "cell_type": "markdown",
   "id": "3a583fd3e905206d",
   "metadata": {},
   "source": [
    "# 24. Numpy create 3x3 matrix with specific value"
   ]
  },
  {
   "cell_type": "code",
   "execution_count": 30,
   "id": "5b2c04af70330e55",
   "metadata": {
    "ExecuteTime": {
     "end_time": "2025-01-29T16:18:14.284847Z",
     "start_time": "2025-01-29T16:18:14.273064Z"
    }
   },
   "outputs": [
    {
     "name": "stdout",
     "output_type": "stream",
     "text": [
      "[[5 5 5]\n",
      " [5 5 5]\n",
      " [5 5 5]]\n"
     ]
    }
   ],
   "source": [
    "a = np.full((3, 3), 5)\n",
    "print(a)"
   ]
  },
  {
   "cell_type": "markdown",
   "id": "69bfacd12a80fab2",
   "metadata": {},
   "source": [
    "# 25. Numpy add element to numpy array"
   ]
  },
  {
   "cell_type": "code",
   "execution_count": 31,
   "id": "3e6d1ad5285ba078",
   "metadata": {
    "ExecuteTime": {
     "end_time": "2025-01-29T16:18:35.502336Z",
     "start_time": "2025-01-29T16:18:35.487624Z"
    }
   },
   "outputs": [
    {
     "name": "stdout",
     "output_type": "stream",
     "text": [
      "[1 2 3 4 5 6]\n"
     ]
    }
   ],
   "source": [
    "a = np.array([1, 2, 3, 4, 5])\n",
    "a = np.append(a, 6)\n",
    "print(a)"
   ]
  },
  {
   "cell_type": "markdown",
   "id": "46a59c5366783fd1",
   "metadata": {},
   "source": [
    "# 26. Numpy insert element at specific index"
   ]
  },
  {
   "cell_type": "code",
   "execution_count": 32,
   "id": "50517f8dfc3ac48",
   "metadata": {
    "ExecuteTime": {
     "end_time": "2025-01-29T16:19:06.221462Z",
     "start_time": "2025-01-29T16:19:06.209912Z"
    }
   },
   "outputs": [
    {
     "name": "stdout",
     "output_type": "stream",
     "text": [
      "[1 2 7 3 4 5]\n"
     ]
    }
   ],
   "source": [
    "a = np.array([1, 2, 3, 4, 5])\n",
    "a = np.insert(a, 2, 7)\n",
    "print(a)"
   ]
  },
  {
   "cell_type": "markdown",
   "id": "7d02d6b96746939d",
   "metadata": {},
   "source": [
    "# 27. Numpy remove element from numpy array"
   ]
  },
  {
   "cell_type": "code",
   "execution_count": 33,
   "id": "336858870cd26f39",
   "metadata": {
    "ExecuteTime": {
     "end_time": "2025-01-29T16:19:34.062356Z",
     "start_time": "2025-01-29T16:19:34.048338Z"
    }
   },
   "outputs": [
    {
     "name": "stdout",
     "output_type": "stream",
     "text": [
      "[1 2 3 4 5]\n",
      "[1 2 4 5]\n"
     ]
    }
   ],
   "source": [
    "a = np.array([1, 2, 3, 4, 5])\n",
    "print(a)\n",
    "a = np.delete(a, 2)\n",
    "print(a)"
   ]
  },
  {
   "cell_type": "markdown",
   "id": "6a0150101353eb23",
   "metadata": {},
   "source": [
    "# 28. Numpy random choice"
   ]
  },
  {
   "cell_type": "code",
   "execution_count": 34,
   "id": "de8d2aab8008a148",
   "metadata": {
    "ExecuteTime": {
     "end_time": "2025-01-29T16:22:32.710046Z",
     "start_time": "2025-01-29T16:22:32.701293Z"
    }
   },
   "outputs": [
    {
     "name": "stdout",
     "output_type": "stream",
     "text": [
      "5\n"
     ]
    }
   ],
   "source": [
    "a = np.array([1, 2, 3, 4, 5])\n",
    "print(np.random.choice(a))"
   ]
  },
  {
   "cell_type": "markdown",
   "id": "d90adeed026ba064",
   "metadata": {},
   "source": [
    "# 29. Numpy random permutation"
   ]
  },
  {
   "cell_type": "code",
   "execution_count": 37,
   "id": "ab8b7dd9f29e40f9",
   "metadata": {
    "ExecuteTime": {
     "end_time": "2025-01-29T16:22:58.984008Z",
     "start_time": "2025-01-29T16:22:58.973095Z"
    }
   },
   "outputs": [
    {
     "name": "stdout",
     "output_type": "stream",
     "text": [
      "[2 5 4 3 1]\n"
     ]
    }
   ],
   "source": [
    "a = np.array([1, 2, 3, 4, 5])\n",
    "print(np.random.permutation(a))"
   ]
  },
  {
   "cell_type": "markdown",
   "id": "cde57c3770f6f145",
   "metadata": {},
   "source": [
    "# 30. Numpy random shuffle"
   ]
  },
  {
   "cell_type": "code",
   "execution_count": 40,
   "id": "6e3b5ec5e209149a",
   "metadata": {
    "ExecuteTime": {
     "end_time": "2025-01-29T16:23:26.425020Z",
     "start_time": "2025-01-29T16:23:26.413905Z"
    }
   },
   "outputs": [
    {
     "name": "stdout",
     "output_type": "stream",
     "text": [
      "[3 2 4 1 5]\n"
     ]
    }
   ],
   "source": [
    "a = np.array([1, 2, 3, 4, 5])\n",
    "np.random.shuffle(a)\n",
    "print(a)"
   ]
  },
  {
   "cell_type": "markdown",
   "id": "5182a89cb7c8df02",
   "metadata": {},
   "source": [
    "# 31. Numpy random seed"
   ]
  },
  {
   "cell_type": "code",
   "execution_count": 41,
   "id": "189f5b77105bebb1",
   "metadata": {
    "ExecuteTime": {
     "end_time": "2025-01-29T16:23:52.038071Z",
     "start_time": "2025-01-29T16:23:52.025347Z"
    }
   },
   "outputs": [
    {
     "name": "stdout",
     "output_type": "stream",
     "text": [
      "[0.5488135  0.71518937 0.60276338]\n"
     ]
    }
   ],
   "source": [
    "np.random.seed(0)\n",
    "a = np.random.random(3)\n",
    "print(a)"
   ]
  },
  {
   "cell_type": "markdown",
   "id": "4600e34acb663884",
   "metadata": {},
   "source": [
    "# 32. Numpy random normal distribution"
   ]
  },
  {
   "cell_type": "code",
   "execution_count": 42,
   "id": "b18a0f0e54fd93a2",
   "metadata": {
    "ExecuteTime": {
     "end_time": "2025-01-29T16:24:15.911923Z",
     "start_time": "2025-01-29T16:24:15.898212Z"
    }
   },
   "outputs": [
    {
     "name": "stdout",
     "output_type": "stream",
     "text": [
      "[-2.2683282   1.33354538 -0.84272405]\n"
     ]
    }
   ],
   "source": [
    "a = np.random.normal(0, 1, 3)\n",
    "print(a)"
   ]
  },
  {
   "cell_type": "markdown",
   "id": "5604ab48989df780",
   "metadata": {},
   "source": [
    "# 33. Numpy random uniform distribution"
   ]
  },
  {
   "cell_type": "code",
   "execution_count": 43,
   "id": "2abc75f523d7a1e7",
   "metadata": {
    "ExecuteTime": {
     "end_time": "2025-01-29T16:24:31.401745Z",
     "start_time": "2025-01-29T16:24:31.376338Z"
    }
   },
   "outputs": [
    {
     "name": "stdout",
     "output_type": "stream",
     "text": [
      "[1.891773   1.96366276 1.38344152]\n"
     ]
    }
   ],
   "source": [
    "a = np.random.uniform(1, 2, 3)\n",
    "print(a)"
   ]
  },
  {
   "cell_type": "markdown",
   "id": "dcdb853920242688",
   "metadata": {},
   "source": [
    "# 34. Numpy random exponential distribution"
   ]
  },
  {
   "cell_type": "code",
   "execution_count": 44,
   "id": "fc17e2907205ce41",
   "metadata": {
    "ExecuteTime": {
     "end_time": "2025-01-29T16:24:52.436724Z",
     "start_time": "2025-01-29T16:24:52.424676Z"
    }
   },
   "outputs": [
    {
     "name": "stdout",
     "output_type": "stream",
     "text": [
      "[1.56889614 0.75267411 0.83943285]\n"
     ]
    }
   ],
   "source": [
    "a = np.random.exponential(1, 3)\n",
    "print(a)"
   ]
  },
  {
   "cell_type": "markdown",
   "id": "99d6d5965d7486d7",
   "metadata": {},
   "source": [
    "# 35. Numpy random poisson distribution"
   ]
  },
  {
   "cell_type": "code",
   "execution_count": 45,
   "id": "2841ea49176a8b95",
   "metadata": {
    "ExecuteTime": {
     "end_time": "2025-01-29T16:25:07.557058Z",
     "start_time": "2025-01-29T16:25:07.541907Z"
    }
   },
   "outputs": [
    {
     "name": "stdout",
     "output_type": "stream",
     "text": [
      "[1 0 0]\n"
     ]
    }
   ],
   "source": [
    "a = np.random.poisson(1, 3)\n",
    "print(a)"
   ]
  },
  {
   "cell_type": "markdown",
   "id": "29a06d86a19f63c5",
   "metadata": {},
   "source": [
    "# 36. Numpy random geometric distribution"
   ]
  },
  {
   "cell_type": "code",
   "execution_count": 47,
   "id": "2e5622e1495db740",
   "metadata": {
    "ExecuteTime": {
     "end_time": "2025-01-29T16:25:24.420167Z",
     "start_time": "2025-01-29T16:25:24.408669Z"
    }
   },
   "outputs": [
    {
     "name": "stdout",
     "output_type": "stream",
     "text": [
      "[6 3 1]\n"
     ]
    }
   ],
   "source": [
    "a = np.random.geometric(0.5, 3)\n",
    "print(a)"
   ]
  },
  {
   "cell_type": "markdown",
   "id": "57a7673013bcf579",
   "metadata": {},
   "source": [
    "# 37. Numpy random binomial distribution"
   ]
  },
  {
   "cell_type": "code",
   "execution_count": 49,
   "id": "60b80bdf104911da",
   "metadata": {
    "ExecuteTime": {
     "end_time": "2025-01-29T16:25:40.115038Z",
     "start_time": "2025-01-29T16:25:40.103385Z"
    }
   },
   "outputs": [
    {
     "name": "stdout",
     "output_type": "stream",
     "text": [
      "[3 7 5]\n"
     ]
    }
   ],
   "source": [
    "a = np.random.binomial(10, 0.5, 3)\n",
    "print(a)"
   ]
  },
  {
   "cell_type": "markdown",
   "id": "2fdc073574b868d9",
   "metadata": {},
   "source": [
    "# 38. Numpy random gamma distribution"
   ]
  },
  {
   "cell_type": "code",
   "execution_count": 51,
   "id": "8e68de77a79f7143",
   "metadata": {
    "ExecuteTime": {
     "end_time": "2025-01-29T16:25:56.873521Z",
     "start_time": "2025-01-29T16:25:56.862560Z"
    }
   },
   "outputs": [
    {
     "name": "stdout",
     "output_type": "stream",
     "text": [
      "[0.60908242 0.84033471 0.01896857]\n"
     ]
    }
   ],
   "source": [
    "a = np.random.gamma(1, 1, 3)\n",
    "print(a)"
   ]
  },
  {
   "cell_type": "markdown",
   "id": "5494ee7accce1ec7",
   "metadata": {},
   "source": [
    "# 39. Numpy random beta distribution"
   ]
  },
  {
   "cell_type": "code",
   "execution_count": 52,
   "id": "dc823a806b8b6750",
   "metadata": {
    "ExecuteTime": {
     "end_time": "2025-01-29T16:26:09.358439Z",
     "start_time": "2025-01-29T16:26:09.340951Z"
    }
   },
   "outputs": [
    {
     "name": "stdout",
     "output_type": "stream",
     "text": [
      "[0.08284198 0.76120581 0.29014279]\n"
     ]
    }
   ],
   "source": [
    "a = np.random.beta(1, 1, 3)\n",
    "print(a)"
   ]
  },
  {
   "cell_type": "markdown",
   "id": "49e74d2628c18935",
   "metadata": {},
   "source": [
    "# 40. Numpy random chisquare distribution"
   ]
  },
  {
   "cell_type": "code",
   "execution_count": 53,
   "id": "2268de5006a429dc",
   "metadata": {
    "ExecuteTime": {
     "end_time": "2025-01-29T16:26:24.012011Z",
     "start_time": "2025-01-29T16:26:24.000263Z"
    }
   },
   "outputs": [
    {
     "name": "stdout",
     "output_type": "stream",
     "text": [
      "[0.90420411 1.68885556 1.15464862]\n"
     ]
    }
   ],
   "source": [
    "a = np.random.chisquare(2, 3)\n",
    "print(a)"
   ]
  },
  {
   "cell_type": "markdown",
   "id": "903b1482f83978c5",
   "metadata": {},
   "source": [
    "# 41. Numpy create 3x3x3 matrix with random values"
   ]
  },
  {
   "cell_type": "code",
   "execution_count": 54,
   "id": "72598dfa5f31c9af",
   "metadata": {
    "ExecuteTime": {
     "end_time": "2025-01-29T16:27:01.916152Z",
     "start_time": "2025-01-29T16:27:01.902484Z"
    }
   },
   "outputs": [
    {
     "name": "stdout",
     "output_type": "stream",
     "text": [
      "[[[0.98837384 0.10204481 0.20887676]\n",
      "  [0.16130952 0.65310833 0.2532916 ]\n",
      "  [0.46631077 0.24442559 0.15896958]]\n",
      "\n",
      " [[0.11037514 0.65632959 0.13818295]\n",
      "  [0.19658236 0.36872517 0.82099323]\n",
      "  [0.09710128 0.83794491 0.09609841]]\n",
      "\n",
      " [[0.97645947 0.4686512  0.97676109]\n",
      "  [0.60484552 0.73926358 0.03918779]\n",
      "  [0.28280696 0.12019656 0.2961402 ]]]\n"
     ]
    }
   ],
   "source": [
    "a = np.random.random((3, 3, 3))\n",
    "print(a)"
   ]
  },
  {
   "cell_type": "markdown",
   "id": "ccbe615f2de6df27",
   "metadata": {},
   "source": [
    "# 42. Numpy create 3x3x3 matrix with zeros"
   ]
  },
  {
   "cell_type": "code",
   "execution_count": 55,
   "id": "e8a471557e5f6348",
   "metadata": {
    "ExecuteTime": {
     "end_time": "2025-01-29T16:27:47.999689Z",
     "start_time": "2025-01-29T16:27:47.987597Z"
    }
   },
   "outputs": [
    {
     "name": "stdout",
     "output_type": "stream",
     "text": [
      "[[[0. 0. 0.]\n",
      "  [0. 0. 0.]\n",
      "  [0. 0. 0.]]\n",
      "\n",
      " [[0. 0. 0.]\n",
      "  [0. 0. 0.]\n",
      "  [0. 0. 0.]]\n",
      "\n",
      " [[0. 0. 0.]\n",
      "  [0. 0. 0.]\n",
      "  [0. 0. 0.]]]\n"
     ]
    }
   ],
   "source": [
    "a = np.zeros((3, 3, 3))\n",
    "print(a)"
   ]
  },
  {
   "cell_type": "markdown",
   "id": "69c45451d8e373b0",
   "metadata": {},
   "source": [
    "# 43. Numpy 10x10 matrix with random values and find min, max, mean, median, std"
   ]
  },
  {
   "cell_type": "code",
   "execution_count": 62,
   "id": "10655462a1cf6f02",
   "metadata": {
    "ExecuteTime": {
     "end_time": "2025-01-29T16:33:12.874607Z",
     "start_time": "2025-01-29T16:33:12.842987Z"
    }
   },
   "outputs": [
    {
     "name": "stdout",
     "output_type": "stream",
     "text": [
      "a =  [[0.91950741 0.71045576 0.17700578 0.48351813 0.14031602]\n",
      " [0.35899528 0.93711704 0.92330531 0.28283685 0.33963104]\n",
      " [0.60021287 0.9631973  0.14780133 0.25691664 0.87355683]\n",
      " [0.49189223 0.89896109 0.1855179  0.53266859 0.32626963]\n",
      " [0.31654256 0.44687696 0.43307745 0.35734688 0.91497077]]\n",
      "Natija  0.1403160179234194 0.96319729526038 0.5207399060182853 0.44687696394619913 0.28118873695820995\n",
      "b =  [[0.73174419 0.72754699 0.28991345 0.57770942 0.77917943]\n",
      " [0.79559037 0.34453046 0.77087276 0.7358939  0.14150649]\n",
      " [0.86594547 0.44132147 0.48641045 0.44836918 0.567846  ]\n",
      " [0.62116925 0.49817957 0.86678854 0.62773476 0.40142795]\n",
      " [0.41669176 0.81083862 0.34819194 0.2114548  0.05938319]]\n",
      "Natija  0.059383188005789234 0.8667885432590956 0.5426496152297681 0.5678460014775075 0.22638702814926992\n"
     ]
    }
   ],
   "source": [
    "a = np.random.random((5, 5))\n",
    "print(\"a = \",a)\n",
    "print(\"Natija \", np.min(a), np.max(a), np.mean(a), np.median(a), np.std(a))\n",
    "b = np.random.random(25).reshape(5, 5)\n",
    "print(\"b = \", b)\n",
    "print(\"Natija \", np.min(b), np.max(b), np.mean(b), np.median(b), np.std(b))"
   ]
  },
  {
   "cell_type": "markdown",
   "id": "95cab4b2837e83a3",
   "metadata": {},
   "source": [
    "# 44. Numpy creat array random  size of 30 find  mean value"
   ]
  },
  {
   "cell_type": "code",
   "execution_count": 64,
   "id": "625adf9859e96617",
   "metadata": {
    "ExecuteTime": {
     "end_time": "2025-01-29T16:35:46.498445Z",
     "start_time": "2025-01-29T16:35:46.486820Z"
    }
   },
   "outputs": [
    {
     "name": "stdout",
     "output_type": "stream",
     "text": [
      "[0.47558912 0.82002244 0.29818736 0.1509349  0.33026704 0.81388014\n",
      " 0.14038396 0.22736245 0.06885196 0.70571004 0.39523324 0.31083998\n",
      " 0.71862639 0.33597754 0.72777127 0.8151994  0.21766284 0.9738187\n",
      " 0.16235795 0.29084091 0.17979529 0.34550566 0.48006089 0.52217587\n",
      " 0.85360604 0.88944791 0.22010386 0.62289403 0.11149606 0.45896986]\n",
      "0.4554524361747107\n"
     ]
    }
   ],
   "source": [
    "a = np.random.random(30)\n",
    "print(a)\n",
    "print(a.mean())"
   ]
  },
  {
   "cell_type": "markdown",
   "id": "88ab1b2bce38c6cc",
   "metadata": {},
   "source": [
    "# 45. Numpy create 3x3 matrix random and find determinant int numbers"
   ]
  },
  {
   "cell_type": "code",
   "execution_count": 8,
   "id": "ae3ccded97742526",
   "metadata": {
    "ExecuteTime": {
     "end_time": "2025-01-29T16:44:43.007343Z",
     "start_time": "2025-01-29T16:44:42.995363Z"
    }
   },
   "outputs": [
    {
     "name": "stdout",
     "output_type": "stream",
     "text": [
      "[[2 3 5]\n",
      " [2 2 9]\n",
      " [9 5 4]]\n",
      "105.00000000000006\n"
     ]
    }
   ],
   "source": [
    "a = np.random.randint(1, 10, (3, 3))\n",
    "print(a)\n",
    "print(np.linalg.det(a))"
   ]
  },
  {
   "cell_type": "markdown",
   "id": "c074cc513035453",
   "metadata": {},
   "source": [
    "# 46. Numpy create 3x3 matrix random and find rank"
   ]
  },
  {
   "cell_type": "code",
   "execution_count": 11,
   "id": "9b3364775df9039b",
   "metadata": {
    "ExecuteTime": {
     "end_time": "2025-01-29T16:46:00.741272Z",
     "start_time": "2025-01-29T16:46:00.726134Z"
    }
   },
   "outputs": [
    {
     "name": "stdout",
     "output_type": "stream",
     "text": [
      "[[3 3 4]\n",
      " [6 5 7]\n",
      " [8 8 4]]\n",
      "3\n"
     ]
    }
   ],
   "source": [
    "a = np.random.randint(1, 10, (3, 3))\n",
    "print(a)\n",
    "print(np.linalg.matrix_rank(a))"
   ]
  },
  {
   "cell_type": "markdown",
   "id": "8ca4ecaf8134c5ff",
   "metadata": {},
   "source": [
    "# 47. Numpy create 3x3 matrix random and find eigenvalues and eigenvectors"
   ]
  },
  {
   "cell_type": "code",
   "execution_count": 12,
   "id": "5ec44e7acd225096",
   "metadata": {
    "ExecuteTime": {
     "end_time": "2025-01-29T16:47:05.750971Z",
     "start_time": "2025-01-29T16:47:05.730649Z"
    }
   },
   "outputs": [
    {
     "name": "stdout",
     "output_type": "stream",
     "text": [
      "[[7 2 8]\n",
      " [7 6 5]\n",
      " [1 7 9]]\n",
      "EigResult(eigenvalues=array([17.31281304+0.j        ,  2.34359348+3.91907873j,\n",
      "        2.34359348-3.91907873j]), eigenvectors=array([[-0.55998049+0.j        ,  0.00640678-0.58012723j,\n",
      "         0.00640678+0.58012723j],\n",
      "       [-0.59932614+0.j        , -0.60138624+0.j        ,\n",
      "        -0.60138624-0.j        ],\n",
      "       [-0.57204023+0.j        ,  0.43081302+0.34080211j,\n",
      "         0.43081302-0.34080211j]]))\n"
     ]
    }
   ],
   "source": [
    "a = np.random.randint(1, 10, (3, 3))\n",
    "print(a)\n",
    "print(np.linalg.eig(a))"
   ]
  },
  {
   "cell_type": "markdown",
   "id": "9ab96d4d244a3cbe",
   "metadata": {},
   "source": [
    "# 48. Numpy create 3x3 matrix random and find inverse"
   ]
  },
  {
   "cell_type": "code",
   "execution_count": 13,
   "id": "3b37069f060aa893",
   "metadata": {
    "ExecuteTime": {
     "end_time": "2025-01-29T16:47:36.765476Z",
     "start_time": "2025-01-29T16:47:36.751563Z"
    }
   },
   "outputs": [
    {
     "name": "stdout",
     "output_type": "stream",
     "text": [
      "[[7 4 2]\n",
      " [2 5 1]\n",
      " [5 7 2]]\n",
      "[[ 1.          2.         -2.        ]\n",
      " [ 0.33333333  1.33333333 -1.        ]\n",
      " [-3.66666667 -9.66666667  9.        ]]\n"
     ]
    }
   ],
   "source": [
    "a = np.random.randint(1, 10, (3, 3))\n",
    "print(a)\n",
    "print(np.linalg.inv(a))"
   ]
  },
  {
   "cell_type": "markdown",
   "id": "8d626d777b30f8dc",
   "metadata": {},
   "source": [
    "# 49. Numpy create 3x3 matrix random and find trace"
   ]
  },
  {
   "cell_type": "code",
   "execution_count": 14,
   "id": "b7b64751706f5260",
   "metadata": {
    "ExecuteTime": {
     "end_time": "2025-01-29T16:48:34.842425Z",
     "start_time": "2025-01-29T16:48:34.819982Z"
    }
   },
   "outputs": [
    {
     "name": "stdout",
     "output_type": "stream",
     "text": [
      "[[8 1 7]\n",
      " [1 9 5]\n",
      " [7 9 8]]\n",
      "25\n"
     ]
    }
   ],
   "source": [
    "a = np.random.randint(1, 10, (3, 3))\n",
    "print(a)\n",
    "print(np.trace(a))"
   ]
  },
  {
   "cell_type": "markdown",
   "id": "be70485f578790c6",
   "metadata": {},
   "source": [
    "# 50. Numpy create 3x3 matrix random and find diagonal"
   ]
  },
  {
   "cell_type": "code",
   "execution_count": 17,
   "id": "3691f14cc523656a",
   "metadata": {
    "ExecuteTime": {
     "end_time": "2025-01-29T16:50:15.059278Z",
     "start_time": "2025-01-29T16:50:15.044018Z"
    }
   },
   "outputs": [
    {
     "name": "stdout",
     "output_type": "stream",
     "text": [
      "[[8 1 9]\n",
      " [4 4 3]\n",
      " [6 4 7]]\n",
      "[8 4 7]\n"
     ]
    }
   ],
   "source": [
    "a = np.random.randint(1, 10, (3, 3))\n",
    "print(a)\n",
    "print(np.diagonal(a))"
   ]
  },
  {
   "cell_type": "markdown",
   "id": "86e285eb0fa15d9a",
   "metadata": {},
   "source": [
    "# 51. Numpy create 3x3 matrix random and find sum of diagonal"
   ]
  },
  {
   "cell_type": "code",
   "execution_count": 18,
   "id": "16020f6128677b2b",
   "metadata": {
    "ExecuteTime": {
     "end_time": "2025-01-29T16:50:42.807942Z",
     "start_time": "2025-01-29T16:50:42.796977Z"
    }
   },
   "outputs": [
    {
     "name": "stdout",
     "output_type": "stream",
     "text": [
      "[[9 9 6]\n",
      " [8 1 5]\n",
      " [7 2 2]]\n",
      "12\n"
     ]
    }
   ],
   "source": [
    "a = np.random.randint(1, 10, (3, 3))\n",
    "print(a)\n",
    "print(np.trace(a))"
   ]
  },
  {
   "cell_type": "markdown",
   "id": "ef9e95b8280a08b5",
   "metadata": {},
   "source": [
    "# 52. Numpy create 3x3 matrix random and find sum of rows"
   ]
  },
  {
   "cell_type": "code",
   "execution_count": 19,
   "id": "ecad33bdc64c55b2",
   "metadata": {
    "ExecuteTime": {
     "end_time": "2025-01-29T16:51:18.114550Z",
     "start_time": "2025-01-29T16:51:18.100442Z"
    }
   },
   "outputs": [
    {
     "name": "stdout",
     "output_type": "stream",
     "text": [
      "[[1 1 8]\n",
      " [5 8 1]\n",
      " [7 2 4]]\n",
      "[10 14 13]\n"
     ]
    }
   ],
   "source": [
    "a = np.random.randint(1, 10, (3, 3))\n",
    "print(a)\n",
    "print(np.sum(a, axis=1))"
   ]
  },
  {
   "cell_type": "markdown",
   "id": "b24bf993638e6703",
   "metadata": {},
   "source": [
    "# 53. Numpy create 3x3 matrix random and find sum of columns"
   ]
  },
  {
   "cell_type": "code",
   "execution_count": 20,
   "id": "51ed78e344a9682a",
   "metadata": {
    "ExecuteTime": {
     "end_time": "2025-01-29T16:52:16.555237Z",
     "start_time": "2025-01-29T16:52:16.542751Z"
    }
   },
   "outputs": [
    {
     "name": "stdout",
     "output_type": "stream",
     "text": [
      "[[3 7 1]\n",
      " [9 2 1]\n",
      " [1 9 2]]\n",
      "[13 18  4]\n"
     ]
    }
   ],
   "source": [
    "a = np.random.randint(1, 10, (3, 3))\n",
    "print(a)\n",
    "print(np.sum(a, axis=0))"
   ]
  },
  {
   "cell_type": "markdown",
   "id": "96d955c8ecf6ef7f",
   "metadata": {},
   "source": [
    "# 54. Numpy create 3x3 matrix random and find sum of all elements"
   ]
  },
  {
   "cell_type": "code",
   "execution_count": 21,
   "id": "dbb43d5e19a58a9d",
   "metadata": {
    "ExecuteTime": {
     "end_time": "2025-01-29T16:52:55.581796Z",
     "start_time": "2025-01-29T16:52:55.563477Z"
    }
   },
   "outputs": [
    {
     "name": "stdout",
     "output_type": "stream",
     "text": [
      "[[6 7 9]\n",
      " [6 4 7]\n",
      " [8 2 1]]\n",
      "50\n"
     ]
    }
   ],
   "source": [
    "a = np.random.randint(1, 10, (3, 3))\n",
    "print(a)\n",
    "print(np.sum(a))"
   ]
  },
  {
   "cell_type": "markdown",
   "id": "86f28a35f1d2d1e7",
   "metadata": {},
   "source": [
    "# 55. Numpy create 3x3 matrix random and find mean of rows"
   ]
  },
  {
   "cell_type": "code",
   "execution_count": 22,
   "id": "c25e007a13156480",
   "metadata": {
    "ExecuteTime": {
     "end_time": "2025-01-29T16:53:17.653420Z",
     "start_time": "2025-01-29T16:53:17.641978Z"
    }
   },
   "outputs": [
    {
     "name": "stdout",
     "output_type": "stream",
     "text": [
      "[[2 8 2]\n",
      " [5 5 4]\n",
      " [7 2 9]]\n",
      "[4.         4.66666667 6.        ]\n"
     ]
    }
   ],
   "source": [
    "a = np.random.randint(1, 10, (3, 3))\n",
    "print(a)\n",
    "print(np.mean(a, axis=1))"
   ]
  },
  {
   "cell_type": "markdown",
   "id": "2f79ae52045dcbbf",
   "metadata": {},
   "source": [
    "# 56. Numpy create 3x3 matrix random and find mean of columns"
   ]
  },
  {
   "cell_type": "code",
   "execution_count": 23,
   "id": "dcbdaed99e91838f",
   "metadata": {
    "ExecuteTime": {
     "end_time": "2025-01-29T16:54:03.312316Z",
     "start_time": "2025-01-29T16:54:03.300186Z"
    }
   },
   "outputs": [
    {
     "name": "stdout",
     "output_type": "stream",
     "text": [
      "[[8 4 4]\n",
      " [4 7 9]\n",
      " [3 2 9]]\n",
      "[5.         4.33333333 7.33333333]\n"
     ]
    }
   ],
   "source": [
    "a = np.random.randint(1, 10, (3, 3))\n",
    "print(a)\n",
    "print(np.mean(a, axis=0))"
   ]
  },
  {
   "cell_type": "markdown",
   "id": "6426aa80209aec48",
   "metadata": {},
   "source": [
    "# 57. Numpy create 3x3 matrix random and find mean of all elements"
   ]
  },
  {
   "cell_type": "code",
   "execution_count": 24,
   "id": "656798b1cbd243a9",
   "metadata": {
    "ExecuteTime": {
     "end_time": "2025-01-29T16:54:28.600640Z",
     "start_time": "2025-01-29T16:54:28.587233Z"
    }
   },
   "outputs": [
    {
     "name": "stdout",
     "output_type": "stream",
     "text": [
      "[[1 5 8]\n",
      " [7 7 1]\n",
      " [4 7 1]]\n",
      "4.555555555555555\n"
     ]
    }
   ],
   "source": [
    "a = np.random.randint(1, 10, (3, 3))\n",
    "print(a)\n",
    "print(np.mean(a))"
   ]
  },
  {
   "cell_type": "markdown",
   "id": "67f92b2d93a88d83",
   "metadata": {},
   "source": [
    "# 58. Numpy create 3x3 matrix random and find median of rows"
   ]
  },
  {
   "cell_type": "code",
   "execution_count": 25,
   "id": "b9f734403fe605ba",
   "metadata": {
    "ExecuteTime": {
     "end_time": "2025-01-29T16:54:50.102364Z",
     "start_time": "2025-01-29T16:54:50.088162Z"
    }
   },
   "outputs": [
    {
     "name": "stdout",
     "output_type": "stream",
     "text": [
      "[[4 3 5]\n",
      " [9 9 8]\n",
      " [7 5 1]]\n",
      "[4. 9. 5.]\n"
     ]
    }
   ],
   "source": [
    "a = np.random.randint(1, 10, (3, 3))\n",
    "print(a)\n",
    "print(np.median(a, axis=1))"
   ]
  },
  {
   "cell_type": "markdown",
   "id": "21ac4db0d2ea7eea",
   "metadata": {},
   "source": [
    "# 59. Numpy create 3x3 matrix random and find median of columns"
   ]
  },
  {
   "cell_type": "code",
   "execution_count": 26,
   "id": "7bddac0657d1764c",
   "metadata": {
    "ExecuteTime": {
     "end_time": "2025-01-29T16:55:07.258480Z",
     "start_time": "2025-01-29T16:55:07.245890Z"
    }
   },
   "outputs": [
    {
     "name": "stdout",
     "output_type": "stream",
     "text": [
      "[[8 3 7]\n",
      " [8 4 1]\n",
      " [7 1 9]]\n",
      "[8. 3. 7.]\n"
     ]
    }
   ],
   "source": [
    "a = np.random.randint(1, 10, (3, 3))\n",
    "print(a)\n",
    "print(np.median(a, axis=0))"
   ]
  },
  {
   "cell_type": "markdown",
   "id": "c5f855e1dc08d107",
   "metadata": {},
   "source": [
    "# 60. Numpy create 3x3 matrix random and find median of all elements"
   ]
  },
  {
   "cell_type": "code",
   "execution_count": null,
   "id": "b58554e7166ff9ad",
   "metadata": {},
   "outputs": [],
   "source": [
    "a = np.random.randint(1, 10, (3, 3))\n",
    "print(a)\n",
    "print(np.median(a))"
   ]
  },
  {
   "cell_type": "markdown",
   "id": "5395341b978e3b9a",
   "metadata": {},
   "source": [
    "# 61. Numpy create 3x3 matrix random and find std of rows or columns or all elements"
   ]
  },
  {
   "cell_type": "code",
   "execution_count": 29,
   "id": "5cd8d7b5abefb75",
   "metadata": {
    "ExecuteTime": {
     "end_time": "2025-01-29T16:56:53.367424Z",
     "start_time": "2025-01-29T16:56:53.353901Z"
    }
   },
   "outputs": [
    {
     "name": "stdout",
     "output_type": "stream",
     "text": [
      "[[4 8 2]\n",
      " [9 1 1]\n",
      " [7 4 7]]\n",
      "[2.49443826 3.77123617 1.41421356]\n",
      "[2.05480467 2.86744176 2.62466929]\n",
      "2.897423291201177\n"
     ]
    }
   ],
   "source": [
    "a = np.random.randint(1, 10, (3, 3))\n",
    "print(a)\n",
    "print(np.std(a, axis=1))\n",
    "print(np.std(a, axis=0))\n",
    "print(np.std(a))"
   ]
  },
  {
   "cell_type": "markdown",
   "id": "fc27278969bd566c",
   "metadata": {},
   "source": [
    "# 62. Numpy create 3x3 matrix random and find var of rows or columns or all elements"
   ]
  },
  {
   "cell_type": "code",
   "execution_count": 30,
   "id": "d4f75f61b512138b",
   "metadata": {
    "ExecuteTime": {
     "end_time": "2025-01-29T16:57:22.590457Z",
     "start_time": "2025-01-29T16:57:22.566962Z"
    }
   },
   "outputs": [
    {
     "name": "stdout",
     "output_type": "stream",
     "text": [
      "[[1 4 2]\n",
      " [9 6 6]\n",
      " [8 7 5]]\n",
      "[1.55555556 2.         1.55555556]\n",
      "[12.66666667  1.55555556  2.88888889]\n",
      "6.222222222222223\n"
     ]
    }
   ],
   "source": [
    "a = np.random.randint(1, 10, (3, 3))\n",
    "print(a)\n",
    "print(np.var(a, axis=1))\n",
    "print(np.var(a, axis=0))\n",
    "print(np.var(a))"
   ]
  },
  {
   "cell_type": "markdown",
   "id": "9f230b8f674952d4",
   "metadata": {},
   "source": [
    "# 63. Numpy create 3x3 matrix random and find cov of rows or columns or all elements"
   ]
  },
  {
   "cell_type": "code",
   "execution_count": 31,
   "id": "f0e95d6675bc2d74",
   "metadata": {
    "ExecuteTime": {
     "end_time": "2025-01-29T16:58:12.756066Z",
     "start_time": "2025-01-29T16:58:12.718629Z"
    }
   },
   "outputs": [
    {
     "name": "stdout",
     "output_type": "stream",
     "text": [
      "[[8 1 1]\n",
      " [1 5 6]\n",
      " [2 4 9]]\n",
      "[[ 16.33333333 -10.5        -10.5       ]\n",
      " [-10.5          7.           8.        ]\n",
      " [-10.5          8.          13.        ]]\n",
      "[[ 14.33333333  -7.83333333 -13.33333333]\n",
      " [ -7.83333333   4.33333333   6.83333333]\n",
      " [-13.33333333   6.83333333  16.33333333]]\n",
      "[[ 16.33333333 -10.5        -10.5       ]\n",
      " [-10.5          7.           8.        ]\n",
      " [-10.5          8.          13.        ]]\n"
     ]
    }
   ],
   "source": [
    "a = np.random.randint(1, 10, (3, 3))\n",
    "print(a)\n",
    "print(np.cov(a, rowvar=True))\n",
    "print(np.cov(a, rowvar=False))\n",
    "print(np.cov(a))"
   ]
  },
  {
   "cell_type": "markdown",
   "id": "16371ab1f8e83ead",
   "metadata": {},
   "source": [
    "# 64. Numpy create 3x3 matrix random secondary diagonal all elements and sum, mean, median, std, prod"
   ]
  },
  {
   "cell_type": "code",
   "execution_count": 36,
   "id": "10792fd2298b5491",
   "metadata": {
    "ExecuteTime": {
     "end_time": "2025-01-29T17:05:23.039306Z",
     "start_time": "2025-01-29T17:05:23.027864Z"
    }
   },
   "outputs": [
    {
     "name": "stdout",
     "output_type": "stream",
     "text": [
      "[[5 3 7]\n",
      " [3 3 9]\n",
      " [9 9 9]]\n",
      "[7 3 9]\n",
      "19\n",
      "6.333333333333333\n",
      "7.0\n",
      "2.494438257849294\n",
      "189\n"
     ]
    }
   ],
   "source": [
    "a = np.random.randint(1, 10, (3, 3))\n",
    "print(a)\n",
    "print(np.fliplr(a).diagonal())\n",
    "print(np.sum(np.fliplr(a).diagonal()))\n",
    "print(np.mean(np.fliplr(a).diagonal()))\n",
    "print(np.median(np.fliplr(a).diagonal()))\n",
    "print(np.std(np.fliplr(a).diagonal()))\n",
    "print(np.prod(np.fliplr(a).diagonal()))"
   ]
  },
  {
   "cell_type": "markdown",
   "id": "9d8626a7385a6548",
   "metadata": {},
   "source": [
    "# 65. Numpy create two matrix random and find dot product"
   ]
  },
  {
   "cell_type": "code",
   "execution_count": 37,
   "id": "2f4701d2d730bae5",
   "metadata": {
    "ExecuteTime": {
     "end_time": "2025-01-29T17:08:03.641394Z",
     "start_time": "2025-01-29T17:08:03.619355Z"
    }
   },
   "outputs": [
    {
     "name": "stdout",
     "output_type": "stream",
     "text": [
      "[[9 5 4]\n",
      " [1 2 2]\n",
      " [8 2 4]]\n",
      "[[8 9 4]\n",
      " [9 3 1]\n",
      " [2 9 5]]\n",
      "[[125 132  61]\n",
      " [ 30  33  16]\n",
      " [ 90 114  54]]\n"
     ]
    }
   ],
   "source": [
    "a = np.random.randint(1, 10, (3, 3))\n",
    "b = np.random.randint(1, 10, (3, 3))\n",
    "print(a)\n",
    "print(b)\n",
    "print(np.dot(a, b))"
   ]
  },
  {
   "cell_type": "markdown",
   "id": "26dcf4ca3deb5cd7",
   "metadata": {},
   "source": [
    "# 66. Numpy create two matrix random and find cross product"
   ]
  },
  {
   "cell_type": "code",
   "execution_count": 38,
   "id": "8aedab4d9a83c8ad",
   "metadata": {
    "ExecuteTime": {
     "end_time": "2025-01-29T17:09:56.506969Z",
     "start_time": "2025-01-29T17:09:56.490417Z"
    }
   },
   "outputs": [
    {
     "name": "stdout",
     "output_type": "stream",
     "text": [
      "[[7 8 5]\n",
      " [5 5 5]\n",
      " [4 3 6]]\n",
      "[[4 4 9]\n",
      " [8 1 1]\n",
      " [7 9 1]]\n",
      "[[ 52 -43  -4]\n",
      " [  0  35 -35]\n",
      " [-51  38  15]]\n"
     ]
    }
   ],
   "source": [
    "a = np.random.randint(1, 10, (3, 3))\n",
    "b = np.random.randint(1, 10, (3, 3))\n",
    "print(a)\n",
    "print(b)\n",
    "print(np.cross(a, b))"
   ]
  },
  {
   "cell_type": "markdown",
   "id": "e660b6b987b75a0d",
   "metadata": {},
   "source": [
    "# 67. Numpy create two matrix random and find inner product"
   ]
  },
  {
   "cell_type": "code",
   "execution_count": 39,
   "id": "e52b940f8741872",
   "metadata": {
    "ExecuteTime": {
     "end_time": "2025-01-29T17:11:10.047260Z",
     "start_time": "2025-01-29T17:11:10.031522Z"
    }
   },
   "outputs": [
    {
     "name": "stdout",
     "output_type": "stream",
     "text": [
      "[[7 3 4]\n",
      " [3 6 7]\n",
      " [7 2 6]]\n",
      "[[7 4 3]\n",
      " [1 8 5]\n",
      " [4 6 8]]\n",
      "[[ 73  51  78]\n",
      " [ 66  86 104]\n",
      " [ 75  53  88]]\n"
     ]
    }
   ],
   "source": [
    "a = np.random.randint(1, 10, (3, 3))\n",
    "b = np.random.randint(1, 10, (3, 3))\n",
    "print(a)\n",
    "print(b)\n",
    "print(np.inner(a, b))"
   ]
  },
  {
   "cell_type": "markdown",
   "id": "3ded27fccc7dca20",
   "metadata": {},
   "source": [
    "# 68. Numpy create two matrix random and find outer product"
   ]
  },
  {
   "cell_type": "code",
   "execution_count": 40,
   "id": "a74dca173e0b011d",
   "metadata": {
    "ExecuteTime": {
     "end_time": "2025-01-29T17:12:54.479657Z",
     "start_time": "2025-01-29T17:12:54.461269Z"
    }
   },
   "outputs": [
    {
     "name": "stdout",
     "output_type": "stream",
     "text": [
      "[[5 6 1]\n",
      " [6 5 5]\n",
      " [2 9 2]]\n",
      "[[1 2 7]\n",
      " [9 2 7]\n",
      " [1 6 6]]\n",
      "[[ 5 10 35 45 10 35  5 30 30]\n",
      " [ 6 12 42 54 12 42  6 36 36]\n",
      " [ 1  2  7  9  2  7  1  6  6]\n",
      " [ 6 12 42 54 12 42  6 36 36]\n",
      " [ 5 10 35 45 10 35  5 30 30]\n",
      " [ 5 10 35 45 10 35  5 30 30]\n",
      " [ 2  4 14 18  4 14  2 12 12]\n",
      " [ 9 18 63 81 18 63  9 54 54]\n",
      " [ 2  4 14 18  4 14  2 12 12]]\n"
     ]
    }
   ],
   "source": [
    "a = np.random.randint(1, 10, (3, 3))\n",
    "b = np.random.randint(1, 10, (3, 3))\n",
    "print(a)\n",
    "print(b)\n",
    "print(np.outer(a, b))"
   ]
  },
  {
   "cell_type": "markdown",
   "id": "d95f636b834c9c6a",
   "metadata": {},
   "source": [
    "# 69. Numpy Solve the linear system ( Ax = b ) where ( A ) is a 3x3 matrix, and ( b ) is a 3x1 column vector"
   ]
  },
  {
   "cell_type": "code",
   "execution_count": 42,
   "id": "6220dd5ad6cebbe2",
   "metadata": {
    "ExecuteTime": {
     "end_time": "2025-01-29T18:07:07.612679Z",
     "start_time": "2025-01-29T18:07:07.595459Z"
    }
   },
   "outputs": [
    {
     "name": "stdout",
     "output_type": "stream",
     "text": [
      "[[6 1 5]\n",
      " [5 8 8]\n",
      " [8 4 4]]\n",
      "[[8]\n",
      " [7]\n",
      " [2]]\n",
      "[[-0.27272727]\n",
      " [-1.10227273]\n",
      " [ 2.14772727]]\n"
     ]
    }
   ],
   "source": [
    "a = np.random.randint(1, 10, (3, 3))\n",
    "b = np.random.randint(1, 10, (3, 1))\n",
    "print(a)\n",
    "print(b)\n",
    "if np.linalg.det(a) != 0:\n",
    "    print(np.linalg.solve(a, b))\n",
    "else:\n",
    "    print(\"Matrix is singular\")"
   ]
  },
  {
   "cell_type": "markdown",
   "id": "51fb727a87abeb60",
   "metadata": {},
   "source": "# 70. Numpy create 3x3 matrix random and find sum of upper triangle"
  },
  {
   "metadata": {
    "ExecuteTime": {
     "end_time": "2025-01-29T18:39:02.041986Z",
     "start_time": "2025-01-29T18:39:02.029390Z"
    }
   },
   "cell_type": "code",
   "source": [
    "a = np.random.randint(1, 10, (3, 3))\n",
    "print(a)\n",
    "print(np.triu(a).sum())"
   ],
   "id": "9faf11c8125c76fb",
   "outputs": [
    {
     "name": "stdout",
     "output_type": "stream",
     "text": [
      "[[7 5 5]\n",
      " [7 1 8]\n",
      " [3 3 9]]\n",
      "35\n"
     ]
    }
   ],
   "execution_count": 3
  },
  {
   "metadata": {},
   "cell_type": "markdown",
   "source": "# 71. Numpy create 3x3 matrix random and find sum of lower triangle",
   "id": "bfa73dab95921f09"
  },
  {
   "metadata": {
    "ExecuteTime": {
     "end_time": "2025-01-29T18:40:00.081536Z",
     "start_time": "2025-01-29T18:40:00.076941Z"
    }
   },
   "cell_type": "code",
   "source": [
    "a = np.random.randint(1, 10, (3, 3))\n",
    "print(a)\n",
    "print(np.tril(a).sum())"
   ],
   "id": "829fb469bd6620f8",
   "outputs": [
    {
     "name": "stdout",
     "output_type": "stream",
     "text": [
      "[[3 4 4]\n",
      " [2 2 7]\n",
      " [4 7 1]]\n",
      "19\n"
     ]
    }
   ],
   "execution_count": 4
  }
 ],
 "metadata": {
  "kernelspec": {
   "display_name": "Python 3",
   "language": "python",
   "name": "python3"
  },
  "language_info": {
   "codemirror_mode": {
    "name": "ipython",
    "version": 2
   },
   "file_extension": ".py",
   "mimetype": "text/x-python",
   "name": "python",
   "nbconvert_exporter": "python",
   "pygments_lexer": "ipython2",
   "version": "2.7.6"
  }
 },
 "nbformat": 4,
 "nbformat_minor": 5
}
